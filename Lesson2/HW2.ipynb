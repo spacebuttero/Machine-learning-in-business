{
  "nbformat": 4,
  "nbformat_minor": 0,
  "metadata": {
    "colab": {
      "name": "webinar2_colab_practica_29_10.ipynb",
      "provenance": [],
      "collapsed_sections": [
        "knu4EuwkMIHZ",
        "QfwYYD1qMIHa"
      ]
    },
    "kernelspec": {
      "display_name": "Python 3",
      "language": "python",
      "name": "python3"
    },
    "language_info": {
      "codemirror_mode": {
        "name": "ipython",
        "version": 3
      },
      "file_extension": ".py",
      "mimetype": "text/x-python",
      "name": "python",
      "nbconvert_exporter": "python",
      "pygments_lexer": "ipython3",
      "version": "3.8.5"
    }
  },
  "cells": [
    {
      "cell_type": "markdown",
      "metadata": {
        "id": "Gds4vHzMMIF8"
      },
      "source": [
        "### Урок 2. #Профилирование пользователей. Сегментация аудитории: unsupervised learning (clustering, LDA/ARTM), supervised (multi/binary classification)#"
      ]
    },
    {
      "cell_type": "markdown",
      "metadata": {
        "id": "_cHdaVftMIGB"
      },
      "source": [
        "План занятия:\n",
        "\n",
        "1. задача сегментации аудитории по интересам - для чего\n",
        "2. тематическое моделирование - получаем эмбединги текстов\n",
        "3. решаем downstream-задачу (профилирование аудитории новостного портала)"
      ]
    },
    {
      "cell_type": "markdown",
      "metadata": {
        "id": "y3b6LoVSMIGD"
      },
      "source": [
        "Рассматривать мы все будем в контексте решения конкретной прикладной задачи - задачи оттока"
      ]
    },
    {
      "cell_type": "markdown",
      "metadata": {
        "id": "WMkEPATUMIGE"
      },
      "source": [
        "#### Задача сегментации (неформальное определение)"
      ]
    },
    {
      "cell_type": "markdown",
      "metadata": {
        "id": "bxhWQlaTMIGF"
      },
      "source": [
        "Разбиваем пользователей на группы, чем-то отличающиеся друг от друга"
      ]
    },
    {
      "cell_type": "markdown",
      "metadata": {
        "id": "Sf4BT9PdMIGF"
      },
      "source": [
        "Если же более формально, то:\n",
        "\n",
        "Сегментация клиентской базы — это способ повышения эффективности работы с пользователями путем их распределения по отдельным группам, или сегментам, в соответствии с их запросами и/или потребностями."
      ]
    },
    {
      "cell_type": "markdown",
      "metadata": {
        "id": "2Qjq_S_RMIGG"
      },
      "source": [
        "Сегментация может быть очень разной:"
      ]
    },
    {
      "cell_type": "markdown",
      "metadata": {
        "id": "E9I1jZUDMIGh"
      },
      "source": [
        "### Переходим к практике"
      ]
    },
    {
      "cell_type": "markdown",
      "metadata": {
        "id": "8VQatlNwZDjq"
      },
      "source": [
        "Три ячейки ниже делаем в Google Colaboratory\n",
        "\n",
        "- установим razdel\n",
        "- установим pymorphy2"
      ]
    },
    {
      "cell_type": "code",
      "metadata": {
        "colab": {
          "base_uri": "https://localhost:8080/"
        },
        "id": "1yqhFYoKOIIw",
        "outputId": "4b293bc1-40b4-4344-bc9d-73b7d66aefed"
      },
      "source": [
        "!pip install razdel"
      ],
      "execution_count": null,
      "outputs": [
        {
          "output_type": "stream",
          "name": "stdout",
          "text": [
            "Collecting razdel\n",
            "  Downloading razdel-0.5.0-py3-none-any.whl (21 kB)\n",
            "Installing collected packages: razdel\n",
            "Successfully installed razdel-0.5.0\n"
          ]
        }
      ]
    },
    {
      "cell_type": "code",
      "metadata": {
        "colab": {
          "base_uri": "https://localhost:8080/"
        },
        "id": "-sNoY9zpOQN7",
        "outputId": "76348f85-8f22-41f5-a69f-56a242122b97"
      },
      "source": [
        "!pip install pymorphy2"
      ],
      "execution_count": null,
      "outputs": [
        {
          "output_type": "stream",
          "name": "stdout",
          "text": [
            "Collecting pymorphy2\n",
            "  Downloading pymorphy2-0.9.1-py3-none-any.whl (55 kB)\n",
            "\u001b[?25l\r\u001b[K     |██████                          | 10 kB 21.9 MB/s eta 0:00:01\r\u001b[K     |███████████▉                    | 20 kB 26.4 MB/s eta 0:00:01\r\u001b[K     |█████████████████▊              | 30 kB 31.9 MB/s eta 0:00:01\r\u001b[K     |███████████████████████▋        | 40 kB 22.1 MB/s eta 0:00:01\r\u001b[K     |█████████████████████████████▌  | 51 kB 11.6 MB/s eta 0:00:01\r\u001b[K     |████████████████████████████████| 55 kB 2.8 MB/s \n",
            "\u001b[?25hCollecting pymorphy2-dicts-ru<3.0,>=2.4\n",
            "  Downloading pymorphy2_dicts_ru-2.4.417127.4579844-py2.py3-none-any.whl (8.2 MB)\n",
            "\u001b[K     |████████████████████████████████| 8.2 MB 14.3 MB/s \n",
            "\u001b[?25hCollecting dawg-python>=0.7.1\n",
            "  Downloading DAWG_Python-0.7.2-py2.py3-none-any.whl (11 kB)\n",
            "Requirement already satisfied: docopt>=0.6 in /usr/local/lib/python3.7/dist-packages (from pymorphy2) (0.6.2)\n",
            "Installing collected packages: pymorphy2-dicts-ru, dawg-python, pymorphy2\n",
            "Successfully installed dawg-python-0.7.2 pymorphy2-0.9.1 pymorphy2-dicts-ru-2.4.417127.4579844\n"
          ]
        }
      ]
    },
    {
      "cell_type": "code",
      "metadata": {
        "colab": {
          "base_uri": "https://localhost:8080/",
          "height": 935
        },
        "id": "vBnKp059tc57",
        "outputId": "34ed7a8d-3b4d-4d57-8d1a-0ba79543e4f3"
      },
      "source": [
        "!pip install pyLDAvis"
      ],
      "execution_count": null,
      "outputs": [
        {
          "output_type": "stream",
          "name": "stdout",
          "text": [
            "Collecting pyLDAvis\n",
            "  Downloading pyLDAvis-3.3.1.tar.gz (1.7 MB)\n",
            "\u001b[K     |████████████████████████████████| 1.7 MB 8.4 MB/s \n",
            "\u001b[?25h  Installing build dependencies ... \u001b[?25l\u001b[?25hdone\n",
            "  Getting requirements to build wheel ... \u001b[?25l\u001b[?25hdone\n",
            "  Installing backend dependencies ... \u001b[?25l\u001b[?25hdone\n",
            "    Preparing wheel metadata ... \u001b[?25l\u001b[?25hdone\n",
            "Requirement already satisfied: sklearn in /usr/local/lib/python3.7/dist-packages (from pyLDAvis) (0.0)\n",
            "Requirement already satisfied: scikit-learn in /usr/local/lib/python3.7/dist-packages (from pyLDAvis) (0.22.2.post1)\n",
            "Collecting numpy>=1.20.0\n",
            "  Downloading numpy-1.21.4-cp37-cp37m-manylinux_2_12_x86_64.manylinux2010_x86_64.whl (15.7 MB)\n",
            "\u001b[K     |████████████████████████████████| 15.7 MB 1.4 MB/s \n",
            "\u001b[?25hRequirement already satisfied: joblib in /usr/local/lib/python3.7/dist-packages (from pyLDAvis) (1.0.1)\n",
            "Requirement already satisfied: jinja2 in /usr/local/lib/python3.7/dist-packages (from pyLDAvis) (2.11.3)\n",
            "Collecting funcy\n",
            "  Downloading funcy-1.16-py2.py3-none-any.whl (32 kB)\n",
            "Requirement already satisfied: scipy in /usr/local/lib/python3.7/dist-packages (from pyLDAvis) (1.4.1)\n",
            "Requirement already satisfied: setuptools in /usr/local/lib/python3.7/dist-packages (from pyLDAvis) (57.4.0)\n",
            "Collecting pandas>=1.2.0\n",
            "  Downloading pandas-1.3.4-cp37-cp37m-manylinux_2_17_x86_64.manylinux2014_x86_64.whl (11.3 MB)\n",
            "\u001b[K     |████████████████████████████████| 11.3 MB 47.6 MB/s \n",
            "\u001b[?25hRequirement already satisfied: future in /usr/local/lib/python3.7/dist-packages (from pyLDAvis) (0.16.0)\n",
            "Requirement already satisfied: numexpr in /usr/local/lib/python3.7/dist-packages (from pyLDAvis) (2.7.3)\n",
            "Requirement already satisfied: gensim in /usr/local/lib/python3.7/dist-packages (from pyLDAvis) (3.6.0)\n",
            "Requirement already satisfied: pytz>=2017.3 in /usr/local/lib/python3.7/dist-packages (from pandas>=1.2.0->pyLDAvis) (2018.9)\n",
            "Requirement already satisfied: python-dateutil>=2.7.3 in /usr/local/lib/python3.7/dist-packages (from pandas>=1.2.0->pyLDAvis) (2.8.2)\n",
            "Requirement already satisfied: six>=1.5 in /usr/local/lib/python3.7/dist-packages (from python-dateutil>=2.7.3->pandas>=1.2.0->pyLDAvis) (1.15.0)\n",
            "Requirement already satisfied: smart-open>=1.2.1 in /usr/local/lib/python3.7/dist-packages (from gensim->pyLDAvis) (5.2.1)\n",
            "Requirement already satisfied: MarkupSafe>=0.23 in /usr/local/lib/python3.7/dist-packages (from jinja2->pyLDAvis) (2.0.1)\n",
            "Building wheels for collected packages: pyLDAvis\n",
            "  Building wheel for pyLDAvis (PEP 517) ... \u001b[?25l\u001b[?25hdone\n",
            "  Created wheel for pyLDAvis: filename=pyLDAvis-3.3.1-py2.py3-none-any.whl size=136897 sha256=fbf136eb16e3b2141d595444a2bcfd85dff866c80e60d855d0a70d07cd7c92e4\n",
            "  Stored in directory: /root/.cache/pip/wheels/c9/21/f6/17bcf2667e8a68532ba2fbf6d5c72fdf4c7f7d9abfa4852d2f\n",
            "Successfully built pyLDAvis\n",
            "Installing collected packages: numpy, pandas, funcy, pyLDAvis\n",
            "  Attempting uninstall: numpy\n",
            "    Found existing installation: numpy 1.19.5\n",
            "    Uninstalling numpy-1.19.5:\n",
            "      Successfully uninstalled numpy-1.19.5\n",
            "  Attempting uninstall: pandas\n",
            "    Found existing installation: pandas 1.1.5\n",
            "    Uninstalling pandas-1.1.5:\n",
            "      Successfully uninstalled pandas-1.1.5\n",
            "\u001b[31mERROR: pip's dependency resolver does not currently take into account all the packages that are installed. This behaviour is the source of the following dependency conflicts.\n",
            "tensorflow 2.6.0 requires numpy~=1.19.2, but you have numpy 1.21.4 which is incompatible.\n",
            "google-colab 1.0.0 requires pandas~=1.1.0; python_version >= \"3.0\", but you have pandas 1.3.4 which is incompatible.\n",
            "datascience 0.10.6 requires folium==0.2.1, but you have folium 0.8.3 which is incompatible.\n",
            "albumentations 0.1.12 requires imgaug<0.2.7,>=0.2.5, but you have imgaug 0.2.9 which is incompatible.\u001b[0m\n",
            "Successfully installed funcy-1.16 numpy-1.21.4 pandas-1.3.4 pyLDAvis-3.3.1\n"
          ]
        },
        {
          "output_type": "display_data",
          "data": {
            "application/vnd.colab-display-data+json": {
              "pip_warning": {
                "packages": [
                  "numpy",
                  "pandas"
                ]
              }
            }
          },
          "metadata": {}
        }
      ]
    },
    {
      "cell_type": "code",
      "metadata": {
        "colab": {
          "base_uri": "https://localhost:8080/"
        },
        "id": "RIY3wOgVs-ud",
        "outputId": "e2f04836-f92f-4e31-a034-29a15f1f1d71"
      },
      "source": [
        "!pip uninstall numpy\n",
        "!pip uninstall pandas\n",
        "\n",
        "!pip install --user numpy\n",
        "!pip install --user  pandas"
      ],
      "execution_count": null,
      "outputs": [
        {
          "output_type": "stream",
          "name": "stdout",
          "text": [
            "Found existing installation: numpy 1.21.4\n",
            "Uninstalling numpy-1.21.4:\n"
          ]
        }
      ]
    },
    {
      "cell_type": "markdown",
      "metadata": {
        "id": "-gAbp044Zlj_"
      },
      "source": [
        "Делаем доступ к Googl Drive"
      ]
    },
    {
      "cell_type": "code",
      "metadata": {
        "colab": {
          "base_uri": "https://localhost:8080/"
        },
        "id": "wqFGM15WNUia",
        "outputId": "bb84ba62-9243-4aac-d567-7c5bb890aa85"
      },
      "source": [
        "from google.colab import drive\n",
        "drive.mount('/gdrive')"
      ],
      "execution_count": 1,
      "outputs": [
        {
          "output_type": "stream",
          "name": "stdout",
          "text": [
            "Mounted at /gdrive\n"
          ]
        }
      ]
    },
    {
      "cell_type": "markdown",
      "metadata": {
        "id": "AmhH7IAvMIGi"
      },
      "source": [
        "Наши новости"
      ]
    },
    {
      "cell_type": "code",
      "metadata": {
        "id": "ctZ-EA4UMIGh"
      },
      "source": [
        "import pandas as pd"
      ],
      "execution_count": 3,
      "outputs": []
    },
    {
      "cell_type": "code",
      "metadata": {
        "id": "J6On3Qpyr5oo"
      },
      "source": [
        "path = '/gdrive/MyDrive/app/'"
      ],
      "execution_count": 4,
      "outputs": []
    },
    {
      "cell_type": "code",
      "metadata": {
        "colab": {
          "base_uri": "https://localhost:8080/",
          "height": 159
        },
        "id": "gycmprucMIGi",
        "outputId": "f2807203-6b92-4b8b-b1e6-1f8a54fb9497"
      },
      "source": [
        "news = pd.read_csv(path+\"articles.csv\")\n",
        "print(news.shape)\n",
        "news.head(3)"
      ],
      "execution_count": 5,
      "outputs": [
        {
          "output_type": "stream",
          "name": "stdout",
          "text": [
            "(27000, 2)\n"
          ]
        },
        {
          "output_type": "execute_result",
          "data": {
            "text/html": [
              "<div>\n",
              "<style scoped>\n",
              "    .dataframe tbody tr th:only-of-type {\n",
              "        vertical-align: middle;\n",
              "    }\n",
              "\n",
              "    .dataframe tbody tr th {\n",
              "        vertical-align: top;\n",
              "    }\n",
              "\n",
              "    .dataframe thead th {\n",
              "        text-align: right;\n",
              "    }\n",
              "</style>\n",
              "<table border=\"1\" class=\"dataframe\">\n",
              "  <thead>\n",
              "    <tr style=\"text-align: right;\">\n",
              "      <th></th>\n",
              "      <th>doc_id</th>\n",
              "      <th>title</th>\n",
              "    </tr>\n",
              "  </thead>\n",
              "  <tbody>\n",
              "    <tr>\n",
              "      <th>0</th>\n",
              "      <td>6</td>\n",
              "      <td>Заместитель председателяnправительства РФnСерг...</td>\n",
              "    </tr>\n",
              "    <tr>\n",
              "      <th>1</th>\n",
              "      <td>4896</td>\n",
              "      <td>Матч 1/16 финала Кубка России по футболу был п...</td>\n",
              "    </tr>\n",
              "    <tr>\n",
              "      <th>2</th>\n",
              "      <td>4897</td>\n",
              "      <td>Форвард «Авангарда» Томаш Заборский прокоммент...</td>\n",
              "    </tr>\n",
              "  </tbody>\n",
              "</table>\n",
              "</div>"
            ],
            "text/plain": [
              "   doc_id                                              title\n",
              "0       6  Заместитель председателяnправительства РФnСерг...\n",
              "1    4896  Матч 1/16 финала Кубка России по футболу был п...\n",
              "2    4897  Форвард «Авангарда» Томаш Заборский прокоммент..."
            ]
          },
          "metadata": {},
          "execution_count": 5
        }
      ]
    },
    {
      "cell_type": "code",
      "metadata": {
        "colab": {
          "base_uri": "https://localhost:8080/"
        },
        "id": "xHWIPos0f41m",
        "outputId": "ededf9c8-1cde-4f6d-e33d-b37304451b69"
      },
      "source": [
        "news.shape"
      ],
      "execution_count": 6,
      "outputs": [
        {
          "output_type": "execute_result",
          "data": {
            "text/plain": [
              "(27000, 2)"
            ]
          },
          "metadata": {},
          "execution_count": 6
        }
      ]
    },
    {
      "cell_type": "markdown",
      "metadata": {
        "id": "H-eNWlDnMIGl"
      },
      "source": [
        "Загрузим пользователей и списки последних прочитанных новостей"
      ]
    },
    {
      "cell_type": "code",
      "metadata": {
        "colab": {
          "base_uri": "https://localhost:8080/",
          "height": 142
        },
        "id": "rIXeUk4iMIGl",
        "outputId": "d0232b0e-7ba0-42a5-9469-45501479467b"
      },
      "source": [
        "users = pd.read_csv(path+\"users_articles.csv\")\n",
        "users.head(3)"
      ],
      "execution_count": 7,
      "outputs": [
        {
          "output_type": "execute_result",
          "data": {
            "text/html": [
              "<div>\n",
              "<style scoped>\n",
              "    .dataframe tbody tr th:only-of-type {\n",
              "        vertical-align: middle;\n",
              "    }\n",
              "\n",
              "    .dataframe tbody tr th {\n",
              "        vertical-align: top;\n",
              "    }\n",
              "\n",
              "    .dataframe thead th {\n",
              "        text-align: right;\n",
              "    }\n",
              "</style>\n",
              "<table border=\"1\" class=\"dataframe\">\n",
              "  <thead>\n",
              "    <tr style=\"text-align: right;\">\n",
              "      <th></th>\n",
              "      <th>uid</th>\n",
              "      <th>articles</th>\n",
              "    </tr>\n",
              "  </thead>\n",
              "  <tbody>\n",
              "    <tr>\n",
              "      <th>0</th>\n",
              "      <td>u105138</td>\n",
              "      <td>[293672, 293328, 293001, 293622, 293126, 1852]</td>\n",
              "    </tr>\n",
              "    <tr>\n",
              "      <th>1</th>\n",
              "      <td>u108690</td>\n",
              "      <td>[3405, 1739, 2972, 1158, 1599, 322665]</td>\n",
              "    </tr>\n",
              "    <tr>\n",
              "      <th>2</th>\n",
              "      <td>u108339</td>\n",
              "      <td>[1845, 2009, 2356, 1424, 2939, 323389]</td>\n",
              "    </tr>\n",
              "  </tbody>\n",
              "</table>\n",
              "</div>"
            ],
            "text/plain": [
              "       uid                                        articles\n",
              "0  u105138  [293672, 293328, 293001, 293622, 293126, 1852]\n",
              "1  u108690          [3405, 1739, 2972, 1158, 1599, 322665]\n",
              "2  u108339          [1845, 2009, 2356, 1424, 2939, 323389]"
            ]
          },
          "metadata": {},
          "execution_count": 7
        }
      ]
    },
    {
      "cell_type": "markdown",
      "metadata": {
        "id": "9kFAT-qMMIGm"
      },
      "source": [
        "Итак, нам нужно получить векторные представления пользователей на основе прочитанным ими новостей и самих новостей"
      ]
    },
    {
      "cell_type": "markdown",
      "metadata": {
        "id": "ra5jYUNoMIGm"
      },
      "source": [
        "### 1. Получаем векторные представления новостей"
      ]
    },
    {
      "cell_type": "code",
      "metadata": {
        "id": "LBjgEo9DMIGm"
      },
      "source": [
        "#from gensim.test.utils import common_texts\n",
        "# https://webdevblog.ru/gensim-rukovodstvo-dlya-nachinajushhih/\n",
        "from gensim.corpora.dictionary import Dictionary"
      ],
      "execution_count": 8,
      "outputs": []
    },
    {
      "cell_type": "code",
      "metadata": {
        "id": "pXp8Q2WNMIGn"
      },
      "source": [
        "#предобработка текстов\n",
        "import re\n",
        "import numpy as np\n",
        "from nltk.corpus import stopwords\n",
        "#from nltk.tokenize import word_tokenize\n",
        "\n",
        "from razdel import tokenize # https://github.com/natasha/razdel\n",
        "#!pip install razdel\n",
        "\n",
        "import pymorphy2  # pip install pymorphy2"
      ],
      "execution_count": 9,
      "outputs": []
    },
    {
      "cell_type": "code",
      "metadata": {
        "colab": {
          "base_uri": "https://localhost:8080/"
        },
        "id": "ea5xiOOMOgla",
        "outputId": "94e54c63-4eac-4b52-c566-53bf57d9a881"
      },
      "source": [
        "import nltk\n",
        "nltk.download('stopwords')"
      ],
      "execution_count": 10,
      "outputs": [
        {
          "output_type": "stream",
          "name": "stdout",
          "text": [
            "[nltk_data] Downloading package stopwords to /root/nltk_data...\n",
            "[nltk_data]   Unzipping corpora/stopwords.zip.\n"
          ]
        },
        {
          "output_type": "execute_result",
          "data": {
            "text/plain": [
              "True"
            ]
          },
          "metadata": {},
          "execution_count": 10
        }
      ]
    },
    {
      "cell_type": "code",
      "metadata": {
        "id": "n4UkLRydMIGn"
      },
      "source": [
        "stopword_ru = stopwords.words('russian')\n",
        "len(stopword_ru)\n",
        "\n",
        "morph = pymorphy2.MorphAnalyzer(  )"
      ],
      "execution_count": 11,
      "outputs": []
    },
    {
      "cell_type": "code",
      "metadata": {
        "colab": {
          "base_uri": "https://localhost:8080/"
        },
        "id": "JvD3j5zYEPZS",
        "outputId": "c27f1ecd-4d40-4313-c05d-7cb31888ff6b"
      },
      "source": [
        "len(stopword_ru)"
      ],
      "execution_count": 12,
      "outputs": [
        {
          "output_type": "execute_result",
          "data": {
            "text/plain": [
              "151"
            ]
          },
          "metadata": {},
          "execution_count": 12
        }
      ]
    },
    {
      "cell_type": "code",
      "metadata": {
        "colab": {
          "base_uri": "https://localhost:8080/"
        },
        "id": "gRCY_H-LMIGo",
        "outputId": "c78b5f59-fb8d-40fb-a55a-24f413cc52cf"
      },
      "source": [
        "with open(path+'stopwords.txt') as f:\n",
        "    additional_stopwords = [w.strip() for w in f.readlines() if w]\n",
        "stopword_ru += additional_stopwords\n",
        "len(stopword_ru)"
      ],
      "execution_count": 13,
      "outputs": [
        {
          "output_type": "execute_result",
          "data": {
            "text/plain": [
              "776"
            ]
          },
          "metadata": {},
          "execution_count": 13
        }
      ]
    },
    {
      "cell_type": "code",
      "metadata": {
        "colab": {
          "base_uri": "https://localhost:8080/",
          "height": 35
        },
        "id": "5zG-fPb7Et2-",
        "outputId": "006974c9-881b-4b39-910b-87008dbe8833"
      },
      "source": [
        "stopword_ru[0]"
      ],
      "execution_count": 14,
      "outputs": [
        {
          "output_type": "execute_result",
          "data": {
            "application/vnd.google.colaboratory.intrinsic+json": {
              "type": "string"
            },
            "text/plain": [
              "'и'"
            ]
          },
          "metadata": {},
          "execution_count": 14
        }
      ]
    },
    {
      "cell_type": "code",
      "metadata": {
        "id": "DiAt1i81MIGp"
      },
      "source": [
        "def clean_text(text):\n",
        "    '''\n",
        "    очистка текста\n",
        "    \n",
        "    на выходе очищеный текст\n",
        "    \n",
        "    '''\n",
        "    if not isinstance(text, str):\n",
        "        text = str(text)\n",
        "    \n",
        "    text = text.lower()\n",
        "    text = text.strip('\\n').strip('\\r').strip('\\t')\n",
        "    text = re.sub(\"-\\s\\r\\n\\|-\\s\\r\\n|\\r\\n\", '', str(text))\n",
        "\n",
        "    text = re.sub(\"[0-9]|[-—.,:;_%©«»?*!@#№$^•·&()]|[+=]|[[]|[]]|[/]|\", '', text)\n",
        "    text = re.sub(r\"\\r\\n\\t|\\n|\\\\s|\\r\\t|\\\\n\", ' ', text)\n",
        "    text = re.sub(r'[\\xad]|[\\s+]', ' ', text.strip())\n",
        "    text = re.sub(\"n\", ' ', text)\n",
        "\n",
        "    \n",
        "    #tokens = list(tokenize(text))\n",
        "    #words = [_.text for _ in tokens]\n",
        "    #words = [w for w in words if w not in stopword_ru]\n",
        "    \n",
        "    #return \" \".join(words)\n",
        "    return text\n",
        "\n",
        "cache = {}\n",
        "\n",
        "def lemmatization(text):\n",
        "    '''\n",
        "    лемматизация\n",
        "        [0] если зашел тип не `str` делаем его `str`\n",
        "        [1] токенизация предложения через razdel\n",
        "        [2] проверка есть ли в начале слова '-'\n",
        "        [3] проверка токена с одного символа\n",
        "        [4] проверка есть ли данное слово в кэше\n",
        "        [5] лемматизация слова\n",
        "        [6] проверка на стоп-слова\n",
        "\n",
        "    на выходе лист отлемматизированых токенов\n",
        "    '''\n",
        "\n",
        "    # [0]\n",
        "    if not isinstance(text, str):\n",
        "        text = str(text)\n",
        "    \n",
        "    # [1]\n",
        "    tokens = list(tokenize(text))\n",
        "    #print(tokens)\n",
        "    words = [_.text for _ in tokens]\n",
        "\n",
        "    words_lem = []\n",
        "    for w in words:\n",
        "        if w[0] == '-': # [2]\n",
        "            w = w[1:]\n",
        "        if len(w)>1: # [3]\n",
        "            if w in cache: # [4]\n",
        "                words_lem.append(cache[w])\n",
        "                #print(temp_cach)\n",
        "            else: # [5]\n",
        "                temp_cach = cache[w] = morph.parse(w)[0].normal_form\n",
        "                words_lem.append(temp_cach)\n",
        "                #print(w,' : ',temp_cach)\n",
        "    \n",
        "    words_lem_without_stopwords=[i for i in words_lem if not i in stopword_ru] # [6]\n",
        "    #print(words_lem_without_stopwords)\n",
        "    return words_lem_without_stopwords"
      ],
      "execution_count": 15,
      "outputs": []
    },
    {
      "cell_type": "code",
      "metadata": {
        "colab": {
          "base_uri": "https://localhost:8080/"
        },
        "id": "90aWsoUley3W",
        "outputId": "2c884716-ec06-44cf-c5c2-617763b1d5b9"
      },
      "source": [
        "list(tokenize(news.iloc[0,1][:100],   ))"
      ],
      "execution_count": 16,
      "outputs": [
        {
          "output_type": "execute_result",
          "data": {
            "text/plain": [
              "[Substring(0, 11, 'Заместитель'),\n",
              " Substring(12, 24, 'председателя'),\n",
              " Substring(24, 25, 'n'),\n",
              " Substring(25, 38, 'правительства'),\n",
              " Substring(39, 41, 'РФ'),\n",
              " Substring(41, 42, 'n'),\n",
              " Substring(42, 48, 'Сергей'),\n",
              " Substring(48, 49, 'n'),\n",
              " Substring(49, 55, 'Иванов'),\n",
              " Substring(55, 56, 'n'),\n",
              " Substring(56, 62, 'избран'),\n",
              " Substring(63, 76, 'председателем'),\n",
              " Substring(77, 83, 'совета'),\n",
              " Substring(83, 84, 'n'),\n",
              " Substring(84, 87, 'ПБК'),\n",
              " Substring(88, 92, 'ЦСКА'),\n",
              " Substring(92, 93, 'n'),\n",
              " Substring(93, 94, '.'),\n",
              " Substring(95, 98, 'Как'),\n",
              " Substring(99, 100, 'с')]"
            ]
          },
          "metadata": {},
          "execution_count": 16
        }
      ]
    },
    {
      "cell_type": "code",
      "metadata": {
        "colab": {
          "base_uri": "https://localhost:8080/"
        },
        "id": "nZHNY8lqeA6a",
        "outputId": "809aca36-384e-46ac-cef9-16233049177e"
      },
      "source": [
        "norm_text = news.iloc[:2,1].apply(lambda x: clean_text(x), 1)\n",
        "norm_text"
      ],
      "execution_count": 17,
      "outputs": [
        {
          "output_type": "stream",
          "name": "stderr",
          "text": [
            "/usr/local/lib/python3.7/dist-packages/ipykernel_launcher.py:15: FutureWarning: Possible nested set at position 39\n",
            "  from ipykernel import kernelapp as app\n"
          ]
        },
        {
          "output_type": "execute_result",
          "data": {
            "text/plain": [
              "0    заместитель председателя правительства рф серг...\n",
              "1    матч  финала кубка россии по футболу был приос...\n",
              "Name: title, dtype: object"
            ]
          },
          "metadata": {},
          "execution_count": 17
        }
      ]
    },
    {
      "cell_type": "code",
      "metadata": {
        "colab": {
          "base_uri": "https://localhost:8080/"
        },
        "id": "VqgNGTEPGZnr",
        "outputId": "b406e7ba-d83b-4668-947d-6c5c1de125cd"
      },
      "source": [
        "lemmatization(norm_text[0])"
      ],
      "execution_count": 18,
      "outputs": [
        {
          "output_type": "execute_result",
          "data": {
            "text/plain": [
              "['заместитель',\n",
              " 'председатель',\n",
              " 'правительство',\n",
              " 'рф',\n",
              " 'сергей',\n",
              " 'иванов',\n",
              " 'избрать',\n",
              " 'председатель',\n",
              " 'совет',\n",
              " 'пбк',\n",
              " 'цска',\n",
              " 'прессслужба',\n",
              " 'армеец',\n",
              " 'решение',\n",
              " 'единогласно',\n",
              " 'принять',\n",
              " 'первый',\n",
              " 'заседание',\n",
              " 'совет',\n",
              " 'клуб',\n",
              " 'основной',\n",
              " 'функция',\n",
              " 'орган',\n",
              " 'обсуждение',\n",
              " 'текущий',\n",
              " 'состояние',\n",
              " 'планирование',\n",
              " 'утверждение',\n",
              " 'стратегия',\n",
              " 'развитие',\n",
              " 'клуб',\n",
              " 'близкий',\n",
              " 'перспектива',\n",
              " 'состав',\n",
              " 'совет',\n",
              " 'войти',\n",
              " 'георгий',\n",
              " 'полтавченко',\n",
              " 'полномочный',\n",
              " 'центральный',\n",
              " 'федеральный',\n",
              " 'округ',\n",
              " 'алексей',\n",
              " 'седов',\n",
              " 'генералполковник',\n",
              " 'начальник',\n",
              " 'служба',\n",
              " 'защита',\n",
              " 'конституционный',\n",
              " 'строй',\n",
              " 'борьба',\n",
              " 'терроризм',\n",
              " 'фсб',\n",
              " 'рф',\n",
              " 'александр',\n",
              " 'новак',\n",
              " 'заместитель',\n",
              " 'министр',\n",
              " 'финансы',\n",
              " 'рф',\n",
              " 'вячеслав',\n",
              " 'полтавец',\n",
              " 'заместитель',\n",
              " 'генеральный',\n",
              " 'директор',\n",
              " 'руководитель',\n",
              " 'блок',\n",
              " 'взаимодействие',\n",
              " 'орган',\n",
              " 'власть',\n",
              " 'социальный',\n",
              " 'корпоративный',\n",
              " 'политика',\n",
              " 'гмк',\n",
              " 'норильский',\n",
              " 'никель',\n",
              " 'леонид',\n",
              " 'исакович',\n",
              " 'генеральный',\n",
              " 'директор',\n",
              " 'ооо',\n",
              " 'ук',\n",
              " 'спортивный',\n",
              " 'проект',\n",
              " 'ольга',\n",
              " 'плешаков',\n",
              " 'генеральный',\n",
              " 'директор',\n",
              " 'трансаэро',\n",
              " 'александр',\n",
              " 'провоторов',\n",
              " 'генеральный',\n",
              " 'директор',\n",
              " 'оао',\n",
              " 'ростелеком',\n",
              " 'андрей',\n",
              " 'лопат',\n",
              " 'эксигрок',\n",
              " 'цска',\n",
              " 'чемпион',\n",
              " 'мир',\n",
              " 'трёхкратный',\n",
              " 'чемпион',\n",
              " 'европа',\n",
              " 'баскетбол',\n",
              " 'председатель',\n",
              " 'правление',\n",
              " 'банк',\n",
              " 'клиентский',\n",
              " 'андрей',\n",
              " 'ватутин',\n",
              " 'пбк',\n",
              " 'цска']"
            ]
          },
          "metadata": {},
          "execution_count": 18
        }
      ]
    },
    {
      "cell_type": "code",
      "metadata": {
        "colab": {
          "base_uri": "https://localhost:8080/"
        },
        "id": "KfixKuSMMIGq",
        "outputId": "baec1b8a-b144-4f43-a2b1-597c869cb15c"
      },
      "source": [
        "%%time\n",
        "#Запускаем очистку текста. Будет долго...\n",
        "news['title'] = news['title'].apply(lambda x: clean_text(x), 1)"
      ],
      "execution_count": 19,
      "outputs": [
        {
          "output_type": "stream",
          "name": "stdout",
          "text": [
            "CPU times: user 25.2 s, sys: 1.73 s, total: 27 s\n",
            "Wall time: 27 s\n"
          ]
        }
      ]
    },
    {
      "cell_type": "code",
      "metadata": {
        "colab": {
          "base_uri": "https://localhost:8080/"
        },
        "id": "A0m01zNlMIGs",
        "outputId": "95234982-3c05-4595-dcf9-226e0066d1d3"
      },
      "source": [
        "%%time\n",
        "#Запускаем лемматизацию текста. Будет очень долго...\n",
        "news['title'] = news['title'].apply(lambda x: lemmatization(x), 1)"
      ],
      "execution_count": 20,
      "outputs": [
        {
          "output_type": "stream",
          "name": "stdout",
          "text": [
            "CPU times: user 4min 19s, sys: 722 ms, total: 4min 20s\n",
            "Wall time: 4min 20s\n"
          ]
        }
      ]
    },
    {
      "cell_type": "markdown",
      "metadata": {
        "id": "OMqHynF9MIGu"
      },
      "source": [
        "А теперь в 3 строчки обучим нашу модель"
      ]
    },
    {
      "cell_type": "code",
      "metadata": {
        "id": "Yd6EZ8RbMIGu"
      },
      "source": [
        "#сформируем список наших текстов, разбив еще и на пробелы\n",
        "texts = [t for t in news['title'].values]\n",
        "\n",
        "# Create a corpus from a list of texts\n",
        "common_dictionary = Dictionary(texts)\n",
        "common_corpus = [common_dictionary.doc2bow(text) for text in texts]"
      ],
      "execution_count": 21,
      "outputs": []
    },
    {
      "cell_type": "markdown",
      "metadata": {
        "id": "hQfhjyspMIGv"
      },
      "source": [
        "Что такое common_dictionary и как он выглядит"
      ]
    },
    {
      "cell_type": "code",
      "metadata": {
        "colab": {
          "base_uri": "https://localhost:8080/",
          "height": 35
        },
        "id": "MBAN3PvWMIGv",
        "outputId": "71603dc8-e268-4e7e-9623-968498c9a1fb"
      },
      "source": [
        "common_dictionary[4]"
      ],
      "execution_count": 22,
      "outputs": [
        {
          "output_type": "execute_result",
          "data": {
            "application/vnd.google.colaboratory.intrinsic+json": {
              "type": "string"
            },
            "text/plain": [
              "'банк'"
            ]
          },
          "metadata": {},
          "execution_count": 22
        }
      ]
    },
    {
      "cell_type": "code",
      "metadata": {
        "colab": {
          "base_uri": "https://localhost:8080/"
        },
        "id": "aJv_IlHdmUjt",
        "outputId": "4e4518a4-f4f5-4bcb-a677-35a2a112e447"
      },
      "source": [
        "common_dictionary.id2token"
      ],
      "execution_count": 23,
      "outputs": [
        {
          "output_type": "execute_result",
          "data": {
            "text/plain": [
              "{0: 'александр',\n",
              " 1: 'алексей',\n",
              " 2: 'андрей',\n",
              " 3: 'армеец',\n",
              " 4: 'банк',\n",
              " 5: 'баскетбол',\n",
              " 6: 'близкий',\n",
              " 7: 'блок',\n",
              " 8: 'борьба',\n",
              " 9: 'ватутин',\n",
              " 10: 'взаимодействие',\n",
              " 11: 'власть',\n",
              " 12: 'войти',\n",
              " 13: 'вячеслав',\n",
              " 14: 'генералполковник',\n",
              " 15: 'генеральный',\n",
              " 16: 'георгий',\n",
              " 17: 'гмк',\n",
              " 18: 'директор',\n",
              " 19: 'европа',\n",
              " 20: 'единогласно',\n",
              " 21: 'заместитель',\n",
              " 22: 'заседание',\n",
              " 23: 'защита',\n",
              " 24: 'иванов',\n",
              " 25: 'избрать',\n",
              " 26: 'исакович',\n",
              " 27: 'клиентский',\n",
              " 28: 'клуб',\n",
              " 29: 'конституционный',\n",
              " 30: 'корпоративный',\n",
              " 31: 'леонид',\n",
              " 32: 'лопат',\n",
              " 33: 'министр',\n",
              " 34: 'мир',\n",
              " 35: 'начальник',\n",
              " 36: 'никель',\n",
              " 37: 'новак',\n",
              " 38: 'норильский',\n",
              " 39: 'оао',\n",
              " 40: 'обсуждение',\n",
              " 41: 'округ',\n",
              " 42: 'ольга',\n",
              " 43: 'ооо',\n",
              " 44: 'орган',\n",
              " 45: 'основной',\n",
              " 46: 'пбк',\n",
              " 47: 'первый',\n",
              " 48: 'перспектива',\n",
              " 49: 'планирование',\n",
              " 50: 'плешаков',\n",
              " 51: 'политика',\n",
              " 52: 'полномочный',\n",
              " 53: 'полтавец',\n",
              " 54: 'полтавченко',\n",
              " 55: 'правительство',\n",
              " 56: 'правление',\n",
              " 57: 'председатель',\n",
              " 58: 'прессслужба',\n",
              " 59: 'принять',\n",
              " 60: 'провоторов',\n",
              " 61: 'проект',\n",
              " 62: 'развитие',\n",
              " 63: 'решение',\n",
              " 64: 'ростелеком',\n",
              " 65: 'руководитель',\n",
              " 66: 'рф',\n",
              " 67: 'седов',\n",
              " 68: 'сергей',\n",
              " 69: 'служба',\n",
              " 70: 'совет',\n",
              " 71: 'состав',\n",
              " 72: 'состояние',\n",
              " 73: 'социальный',\n",
              " 74: 'спортивный',\n",
              " 75: 'стратегия',\n",
              " 76: 'строй',\n",
              " 77: 'текущий',\n",
              " 78: 'терроризм',\n",
              " 79: 'трансаэро',\n",
              " 80: 'трёхкратный',\n",
              " 81: 'ук',\n",
              " 82: 'утверждение',\n",
              " 83: 'федеральный',\n",
              " 84: 'финансы',\n",
              " 85: 'фсб',\n",
              " 86: 'функция',\n",
              " 87: 'центральный',\n",
              " 88: 'цска',\n",
              " 89: 'чемпион',\n",
              " 90: 'эксигрок',\n",
              " 91: 'ru',\n",
              " 92: 'болельщик',\n",
              " 93: 'вести',\n",
              " 94: 'взрыв',\n",
              " 95: 'выбросить',\n",
              " 96: 'газета',\n",
              " 97: 'динамовец',\n",
              " 98: 'изз',\n",
              " 99: 'команда',\n",
              " 100: 'корреспондент',\n",
              " 101: 'кромка',\n",
              " 102: 'кубок',\n",
              " 103: 'матч',\n",
              " 104: 'минута',\n",
              " 105: 'онлайнтрансляция',\n",
              " 106: 'остановить',\n",
              " 107: 'остаться',\n",
              " 108: 'передавать',\n",
              " 109: 'петарда',\n",
              " 110: 'пиротехнический',\n",
              " 111: 'подтрибунный',\n",
              " 112: 'поле',\n",
              " 113: 'помещение',\n",
              " 114: 'приостановить',\n",
              " 115: 'пять',\n",
              " 116: 'россия',\n",
              " 117: 'снаряд',\n",
              " 118: 'судья',\n",
              " 119: 'торпедовец',\n",
              " 120: 'увести',\n",
              " 121: 'уйти',\n",
              " 122: 'финал',\n",
              " 123: 'футбол',\n",
              " 124: 'авангард',\n",
              " 125: 'атланта',\n",
              " 126: 'быстрый',\n",
              " 127: 'включиться',\n",
              " 128: 'выезд',\n",
              " 129: 'гол',\n",
              " 130: 'девять',\n",
              " 131: 'заборский',\n",
              " 132: 'забросить',\n",
              " 133: 'задать',\n",
              " 134: 'игра',\n",
              " 135: 'играть',\n",
              " 136: 'кхл',\n",
              " 137: 'настраиваться',\n",
              " 138: 'нижний',\n",
              " 139: 'новгород',\n",
              " 140: 'очко',\n",
              " 141: 'плохой',\n",
              " 142: 'поединок',\n",
              " 143: 'получиться',\n",
              " 144: 'прокомментировать',\n",
              " 145: 'против',\n",
              " 146: 'сторона',\n",
              " 147: 'темп',\n",
              " 148: 'томаш',\n",
              " 149: 'торпедо',\n",
              " 150: 'форвард',\n",
              " 151: 'хороший',\n",
              " 152: 'чемпионат',\n",
              " 153: 'афолаби',\n",
              " 154: 'бальда',\n",
              " 155: 'возможно',\n",
              " 156: 'всё',\n",
              " 157: 'второй',\n",
              " 158: 'выпустить',\n",
              " 159: 'главный',\n",
              " 160: 'го',\n",
              " 161: 'дать',\n",
              " 162: 'действительно',\n",
              " 163: 'жизнь',\n",
              " 164: 'закончить',\n",
              " 165: 'замена',\n",
              " 166: 'заменить',\n",
              " 167: 'заработать',\n",
              " 168: 'заявка',\n",
              " 169: 'здорово',\n",
              " 170: 'игрок',\n",
              " 171: 'идти',\n",
              " 172: 'конец',\n",
              " 173: 'красножанин',\n",
              " 174: 'крыло',\n",
              " 175: 'кубань',\n",
              " 176: 'лидер',\n",
              " 177: 'менее',\n",
              " 178: 'момент',\n",
              " 179: 'наверное',\n",
              " 180: 'настроение',\n",
              " 181: 'немало',\n",
              " 182: 'неплохо',\n",
              " 183: 'овладевать',\n",
              " 184: 'осложнить',\n",
              " 185: 'отпускной',\n",
              " 186: 'отсюда',\n",
              " 187: 'отыграть',\n",
              " 188: 'победа',\n",
              " 189: 'подряд',\n",
              " 190: 'позиция',\n",
              " 191: 'пока',\n",
              " 192: 'понемногу',\n",
              " 193: 'попасть',\n",
              " 194: 'попов',\n",
              " 195: 'почему',\n",
              " 196: 'пребывать',\n",
              " 197: 'преимущество',\n",
              " 198: 'привыкать',\n",
              " 199: 'самоуспокоенность',\n",
              " 200: 'сезон',\n",
              " 201: 'смочь',\n",
              " 202: 'создать',\n",
              " 203: 'спокойствие',\n",
              " 204: 'статус',\n",
              " 205: 'счёт',\n",
              " 206: 'сэ',\n",
              " 207: 'требоваться',\n",
              " 208: 'тренер',\n",
              " 209: 'тур',\n",
              " 210: 'уверенно',\n",
              " 211: 'успокаиваться',\n",
              " 212: 'хотеть',\n",
              " 213: 'целое',\n",
              " 214: 'частично',\n",
              " 215: 'чувствовать',\n",
              " 216: 'юрий',\n",
              " 217: 'балан',\n",
              " 218: 'вицегубернатор',\n",
              " 219: 'вицепрезидент',\n",
              " 220: 'владивостокский',\n",
              " 221: 'владимир',\n",
              " 222: 'дальневосточный',\n",
              " 223: 'должность',\n",
              " 224: 'занимать',\n",
              " 225: 'информировать',\n",
              " 226: 'край',\n",
              " 227: 'менеджер',\n",
              " 228: 'насонов',\n",
              " 229: 'оставаться',\n",
              " 230: 'официальный',\n",
              " 231: 'попечительский',\n",
              " 232: 'попрежний',\n",
              " 233: 'пост',\n",
              " 234: 'приморский',\n",
              " 235: 'сайт',\n",
              " 236: 'сандлера',\n",
              " 237: 'спартак',\n",
              " 238: 'упразднить',\n",
              " 239: 'член',\n",
              " 240: 'эдуард',\n",
              " 241: 'буцай',\n",
              " 242: 'входить',\n",
              " 243: 'гдеть',\n",
              " 244: 'главное',\n",
              " 245: 'дневный',\n",
              " 246: 'долго',\n",
              " 247: 'дотерпеть',\n",
              " 248: 'заслуженно',\n",
              " 249: 'ио',\n",
              " 250: 'начинаться',\n",
              " 251: 'непривычный',\n",
              " 252: 'очень',\n",
              " 253: 'период',\n",
              " 254: 'плюс',\n",
              " 255: 'победить',\n",
              " 256: 'поблагодарить',\n",
              " 257: 'показать',\n",
              " 258: 'появиться',\n",
              " 259: 'правильно',\n",
              " 260: 'прежде',\n",
              " 261: 'пропустить',\n",
              " 262: 'разбежаться',\n",
              " 263: 'ребята',\n",
              " 264: 'регулярный',\n",
              " 265: 'связать',\n",
              " 266: 'сибирь',\n",
              " 267: 'скажем',\n",
              " 268: 'смена',\n",
              " 269: 'сонный',\n",
              " 270: 'третий',\n",
              " 271: 'удачно',\n",
              " 272: 'югра',\n",
              " 273: 'будник',\n",
              " 274: 'ворскла',\n",
              " 275: 'встреча',\n",
              " 276: 'голый',\n",
              " 277: 'громов',\n",
              " 278: 'дом',\n",
              " 279: 'завершиться',\n",
              " 280: 'запорожский',\n",
              " 281: 'материал',\n",
              " 282: 'металлург',\n",
              " 283: 'новость',\n",
              " 284: 'поражение',\n",
              " 285: 'посмотреть',\n",
              " 286: 'потерпеть',\n",
              " 287: 'разгромный',\n",
              " 288: 'страница',\n",
              " 289: 'украина',\n",
              " 290: 'украинский',\n",
              " 291: 'чеснаковы',\n",
              " 292: 'австрия',\n",
              " 293: 'бол',\n",
              " 294: 'бьюгстадо',\n",
              " 295: 'вельзер',\n",
              " 296: 'день',\n",
              " 297: 'джонсон',\n",
              " 298: 'иберер',\n",
              " 299: 'игровой',\n",
              " 300: 'кристо',\n",
              " 301: 'латуз',\n",
              " 302: 'леблан',\n",
              " 303: 'лукас',\n",
              " 304: 'макбэйн',\n",
              " 305: 'мосс',\n",
              " 306: 'одержать',\n",
              " 307: 'пайнтнер',\n",
              " 308: 'палушать',\n",
              " 309: 'сборная',\n",
              " 310: 'стартовый',\n",
              " 311: 'стэплтон',\n",
              " 312: 'сша',\n",
              " 313: 'фолкнуть',\n",
              " 314: 'хоккей',\n",
              " 315: 'хундертпфунда',\n",
              " 316: 'штястный',\n",
              " 317: 'шуллера',\n",
              " 318: 'больший',\n",
              " 319: 'бывший',\n",
              " 320: 'взять',\n",
              " 321: 'внести',\n",
              " 322: 'вырасти',\n",
              " 323: 'выступление',\n",
              " 324: 'дарюс',\n",
              " 325: 'защитник',\n",
              " 326: 'илья',\n",
              " 327: 'илюха',\n",
              " 328: 'каспарайтис',\n",
              " 329: 'качество',\n",
              " 330: 'ковальчук',\n",
              " 331: 'латвия',\n",
              " 332: 'малкин',\n",
              " 333: 'национальный',\n",
              " 334: 'ожидание',\n",
              " 335: 'ознакомиться',\n",
              " 336: 'поделиться',\n",
              " 337: 'пойти',\n",
              " 338: 'последний',\n",
              " 339: 'потрясающе',\n",
              " 340: 'прошлый',\n",
              " 341: 'сильно',\n",
              " 342: 'статистика',\n",
              " 343: 'выиграть',\n",
              " 344: 'данил',\n",
              " 345: 'делать',\n",
              " 346: 'добиться',\n",
              " 347: 'думать',\n",
              " 348: 'жиляев',\n",
              " 349: 'завтра',\n",
              " 350: 'зоран',\n",
              " 351: 'известно',\n",
              " 352: 'исполниться',\n",
              " 353: 'капитан',\n",
              " 354: 'касаться',\n",
              " 355: 'крупный',\n",
              " 356: 'надеяться',\n",
              " 357: 'подарок',\n",
              " 358: 'пожелать',\n",
              " 359: 'полузащитник',\n",
              " 360: 'произнести',\n",
              " 361: 'просто',\n",
              " 362: 'речь',\n",
              " 363: 'сделать',\n",
              " 364: 'сербский',\n",
              " 365: 'серьёзный',\n",
              " 366: 'слуцкий',\n",
              " 367: 'терек',\n",
              " 368: 'тошич',\n",
              " 369: 'травма',\n",
              " 370: 'удачный',\n",
              " 371: 'ушибить',\n",
              " 372: 'характер',\n",
              " 373: 'хромать',\n",
              " 374: 'чемпионство',\n",
              " 375: 'шаг',\n",
              " 376: 'барселона',\n",
              " 377: 'бетис',\n",
              " 378: 'вальдес',\n",
              " 379: 'виктор',\n",
              " 380: 'воспаление',\n",
              " 381: 'вратарь',\n",
              " 382: 'испания',\n",
              " 383: 'каталонец',\n",
              " 384: 'кость',\n",
              " 385: 'левый',\n",
              " 386: 'нога',\n",
              " 387: 'подошвенный',\n",
              " 388: 'стопа',\n",
              " 389: 'фасциит',\n",
              " 390: 'анастасия',\n",
              " 391: 'испанка',\n",
              " 392: 'карл',\n",
              " 393: 'обыграть',\n",
              " 394: 'оэйраша',\n",
              " 395: 'павлюченков',\n",
              " 396: 'победительница',\n",
              " 397: 'призовой',\n",
              " 398: 'решающий',\n",
              " 399: 'россиянка',\n",
              " 400: 'суареснаварро',\n",
              " 401: 'теннис',\n",
              " 402: 'турнир',\n",
              " 403: 'тыс',\n",
              " 404: 'фонд',\n",
              " 405: 'анжи',\n",
              " 406: 'бедро',\n",
              " 407: 'вернуться',\n",
              " 408: 'волга',\n",
              " 409: 'задний',\n",
              " 410: 'ивуариец',\n",
              " 411: 'казанский',\n",
              " 412: 'лассина',\n",
              " 413: 'махачкала',\n",
              " 414: 'нападать',\n",
              " 415: 'общий',\n",
              " 416: 'поверхность',\n",
              " 417: 'премьерлига',\n",
              " 418: 'рамка',\n",
              " 419: 'российский',\n",
              " 420: 'рубин',\n",
              " 421: 'траор',\n",
              " 422: 'тренировка',\n",
              " 423: 'бохара',\n",
              " 424: 'железнодорожник',\n",
              " 425: 'завершить',\n",
              " 426: 'касейдо',\n",
              " 427: 'контрольный',\n",
              " 428: 'кучук',\n",
              " 429: 'локомотив',\n",
              " 430: 'марибора',\n",
              " 431: 'местный',\n",
              " 432: 'металлист',\n",
              " 433: 'московский',\n",
              " 434: 'подопечный',\n",
              " 435: 'предупреждеие',\n",
              " 436: 'проиграть',\n",
              " 437: 'сбор',\n",
              " 438: 'следующий',\n",
              " 439: 'словения',\n",
              " 440: 'соперник',\n",
              " 441: 'таварес',\n",
              " 442: 'торбинский',\n",
              " 443: 'учебнотренировочный',\n",
              " 444: 'харьковский',\n",
              " 445: 'хорватский',\n",
              " 446: 'atp',\n",
              " 447: 'важный',\n",
              " 448: 'возраст',\n",
              " 449: 'возрастной',\n",
              " 450: 'вокруг',\n",
              " 451: 'вообще',\n",
              " 452: 'врач',\n",
              " 453: 'далёкий',\n",
              " 454: 'действовать',\n",
              " 455: 'джокович',\n",
              " 456: 'достаточно',\n",
              " 457: 'желание',\n",
              " 458: 'круг',\n",
              " 459: 'мнение',\n",
              " 460: 'множество',\n",
              " 461: 'мудрость',\n",
              " 462: 'начинать',\n",
              " 463: 'немец',\n",
              " 464: 'нужно',\n",
              " 465: 'оно',\n",
              " 466: 'опыт',\n",
              " 467: 'оценивать',\n",
              " 468: 'питание',\n",
              " 469: 'позволять',\n",
              " 470: 'понимать',\n",
              " 471: 'правило',\n",
              " 472: 'правильный',\n",
              " 473: 'приводить',\n",
              " 474: 'ракетка',\n",
              " 475: 'сила',\n",
              " 476: 'собирать',\n",
              " 477: 'согласно',\n",
              " 478: 'специалист',\n",
              " 479: 'существовать',\n",
              " 480: 'сыграть',\n",
              " 481: 'теннисист',\n",
              " 482: 'ти',\n",
              " 483: 'томми',\n",
              " 484: 'трезво',\n",
              " 485: 'уимблдон',\n",
              " 486: 'успех',\n",
              " 487: 'фактор',\n",
              " 488: 'физиотерапевт',\n",
              " 489: 'форма',\n",
              " 490: 'хаас',\n",
              " 491: 'четвёртый',\n",
              " 492: 'гомис',\n",
              " 493: 'груда',\n",
              " 494: 'дюмерс',\n",
              " 495: 'женский',\n",
              " 496: 'литтл',\n",
              " 497: 'место',\n",
              " 498: 'одолеть',\n",
              " 499: 'орша',\n",
              " 500: 'сербия',\n",
              " 501: 'торренс',\n",
              " 502: 'турция',\n",
              " 503: 'франция',\n",
              " 504: 'французский',\n",
              " 505: 'шаргай',\n",
              " 506: 'cbs',\n",
              " 507: 'агент',\n",
              " 508: 'айлендерс',\n",
              " 509: 'взамен',\n",
              " 510: 'выбрать',\n",
              " 511: 'драфт',\n",
              " 512: 'клаттербак',\n",
              " 513: 'количество',\n",
              " 514: 'контракт',\n",
              " 515: 'кэла',\n",
              " 516: 'летний',\n",
              " 517: 'миннесота',\n",
              " 518: 'минувший',\n",
              " 519: 'молодой',\n",
              " 520: 'набрать',\n",
              " 521: 'нидеррайтер',\n",
              " 522: 'нино',\n",
              " 523: 'новый',\n",
              " 524: 'номер',\n",
              " 525: 'нхл',\n",
              " 526: 'обменять',\n",
              " 527: 'ограниченно',\n",
              " 528: 'островитянин',\n",
              " 529: 'переходить',\n",
              " 530: 'поэтому',\n",
              " 531: 'приём',\n",
              " 532: 'пятый',\n",
              " 533: 'свободный',\n",
              " 534: 'силовой',\n",
              " 535: 'jcom',\n",
              " 536: 'активный',\n",
              " 537: 'бродый',\n",
              " 538: 'ванкувер',\n",
              " 539: 'выбор',\n",
              " 540: 'голкипер',\n",
              " 541: 'девятый',\n",
              " 542: 'дьявол',\n",
              " 543: 'завершение',\n",
              " 544: 'итоговый',\n",
              " 545: 'канадский',\n",
              " 546: 'карьера',\n",
              " 547: 'корь',\n",
              " 548: 'кэнакс',\n",
              " 549: 'луонго',\n",
              " 550: 'мартин',\n",
              " 551: 'многоопытный',\n",
              " 552: 'найти',\n",
              " 553: 'ньюджерси',\n",
              " 554: 'обмен',\n",
              " 555: 'покинуть',\n",
              " 556: 'призвать',\n",
              " 557: 'пристанище',\n",
              " 558: 'раунд',\n",
              " 559: 'роберто',\n",
              " 560: 'солидный',\n",
              " 561: 'удаться',\n",
              " 562: 'шнайдер',\n",
              " 563: 'sportsru',\n",
              " 564: 'аккуратный',\n",
              " 565: 'беспокоить',\n",
              " 566: 'большой',\n",
              " 567: 'видеть',\n",
              " 568: 'десять',\n",
              " 569: 'динамо',\n",
              " 570: 'достойно',\n",
              " 571: 'заслуживать',\n",
              " 572: 'зенит',\n",
              " 573: 'киевлянин',\n",
              " 574: 'киевский',\n",
              " 575: 'кондиция',\n",
              " 576: 'лучано',\n",
              " 577: 'мешать',\n",
              " 578: 'назад',\n",
              " 579: 'например',\n",
              " 580: 'начать',\n",
              " 581: 'неприятно',\n",
              " 582: 'объединить',\n",
              " 583: 'отличие',\n",
              " 584: 'подготовка',\n",
              " 585: 'проигрывать',\n",
              " 586: 'происходить',\n",
              " 587: 'ранний',\n",
              " 588: 'семь',\n",
              " 589: 'спаллетти',\n",
              " 590: 'сражаться',\n",
              " 591: 'травмироваться',\n",
              " 592: 'увидеть',\n",
              " 593: 'улучшение',\n",
              " 594: 'физический',\n",
              " 595: 'хотя',\n",
              " 596: 'широков',\n",
              " 597: 'алвес',\n",
              " 598: 'альба',\n",
              " 599: 'арбелоа',\n",
              " 600: 'бразилия',\n",
              " 601: 'бразильский',\n",
              " 602: 'бускетс',\n",
              " 603: 'давид',\n",
              " 604: 'дань',\n",
              " 605: 'жулио',\n",
              " 606: 'иньест',\n",
              " 607: 'касильяс',\n",
              " 608: 'конфедерация',\n",
              " 609: 'луис',\n",
              " 610: 'маракан',\n",
              " 611: 'марио',\n",
              " 612: 'марсесть',\n",
              " 613: 'мат',\n",
              " 614: 'мск',\n",
              " 615: 'неймара',\n",
              " 616: 'оскар',\n",
              " 617: 'паулиньо',\n",
              " 618: 'педро',\n",
              " 619: 'пик',\n",
              " 620: 'прямой',\n",
              " 621: 'рамос',\n",
              " 622: 'риодежанейро',\n",
              " 623: 'сезара',\n",
              " 624: 'силва',\n",
              " 625: 'состояться',\n",
              " 626: 'стадион',\n",
              " 627: 'текстовый',\n",
              " 628: 'торрес',\n",
              " 629: 'тьяго',\n",
              " 630: 'филья',\n",
              " 631: 'финальный',\n",
              " 632: 'фред',\n",
              " 633: 'хавить',\n",
              " 634: 'халк',\n",
              " 635: 'эрнанести',\n",
              " 636: 'абсолютный',\n",
              " 637: 'ажиотаж',\n",
              " 638: 'алла',\n",
              " 639: 'борисович',\n",
              " 640: 'вид',\n",
              " 641: 'владелец',\n",
              " 642: 'выразить',\n",
              " 643: 'высказывание',\n",
              " 644: 'газзаев',\n",
              " 645: 'господин',\n",
              " 646: 'дабы',\n",
              " 647: 'деньга',\n",
              " 648: 'дорогой',\n",
              " 649: 'зато',\n",
              " 650: 'идея',\n",
              " 651: 'иностранец',\n",
              " 652: 'легионер',\n",
              " 653: 'лимит',\n",
              " 654: 'любимый',\n",
              " 655: 'намерить',\n",
              " 656: 'несерьёзно',\n",
              " 657: 'никто',\n",
              " 658: 'оба',\n",
              " 659: 'объединение',\n",
              " 660: 'организатор',\n",
              " 661: 'оргкомитет',\n",
              " 662: 'относительно',\n",
              " 663: 'перестать',\n",
              " 664: 'петь',\n",
              " 665: 'позитив',\n",
              " 666: 'построение',\n",
              " 667: 'потерять',\n",
              " 668: 'предлагать',\n",
              " 669: 'привести',\n",
              " 670: 'принцип',\n",
              " 671: 'приобрести',\n",
              " 672: 'приходить',\n",
              " 673: 'проводить',\n",
              " 674: 'произойти',\n",
              " 675: 'проституировать',\n",
              " 676: 'противоречить',\n",
              " 677: 'прямо',\n",
              " 678: 'пугачёв',\n",
              " 679: 'пусть',\n",
              " 680: 'разговор',\n",
              " 681: 'рфс',\n",
              " 682: 'свидетельствовать',\n",
              " 683: 'свобода',\n",
              " 684: 'скорее',\n",
              " 685: 'собираться',\n",
              " 686: 'советский',\n",
              " 687: 'спасение',\n",
              " 688: 'спорт',\n",
              " 689: 'сразу',\n",
              " 690: 'стороженко',\n",
              " 691: 'сторонник',\n",
              " 692: 'тонуть',\n",
              " 693: 'тысяча',\n",
              " 694: 'убийство',\n",
              " 695: 'уничтожение',\n",
              " 696: 'федерация',\n",
              " 697: 'ффу',\n",
              " 698: 'ходить',\n",
              " 699: 'черта',\n",
              " 700: 'юношеский',\n",
              " 701: 'бегать',\n",
              " 702: 'блохин',\n",
              " 703: 'временами',\n",
              " 704: 'всетаки',\n",
              " 705: 'вчера',\n",
              " 706: 'выглядеть',\n",
              " 707: 'зритель',\n",
              " 708: 'километраж',\n",
              " 709: 'маленький',\n",
              " 710: 'меняться',\n",
              " 711: 'нагрузка',\n",
              " 712: 'нужный',\n",
              " 713: 'объём',\n",
              " 714: 'олег',\n",
              " 715: 'план',\n",
              " 716: 'поехать',\n",
              " 717: 'поздравлять',\n",
              " 718: 'показывать',\n",
              " 719: 'покупать',\n",
              " 720: 'проявлять',\n",
              " 721: 'роль',\n",
              " 722: 'сбрасывать',\n",
              " 723: 'ставить',\n",
              " 724: 'столько',\n",
              " 725: 'стремиться',\n",
              " 726: 'тактика',\n",
              " 727: 'тяжёлый',\n",
              " 728: 'украинец',\n",
              " 729: 'уровень',\n",
              " 730: 'усталость',\n",
              " 731: 'установка',\n",
              " 732: 'чемуть',\n",
              " 733: 'анатолий',\n",
              " 734: 'аршавин',\n",
              " 735: 'аршавино',\n",
              " 736: 'безнадёжно',\n",
              " 737: 'бойцовский',\n",
              " 738: 'видно',\n",
              " 739: 'возвращение',\n",
              " 740: 'впечатление',\n",
              " 741: 'вряд',\n",
              " 742: 'встретить',\n",
              " 743: 'довольный',\n",
              " 744: 'дух',\n",
              " 745: 'знакомство',\n",
              " 746: 'мастерство',\n",
              " 747: 'набирать',\n",
              " 748: 'начаться',\n",
              " 749: 'небольшой',\n",
              " 750: 'некоторый',\n",
              " 751: 'никуда',\n",
              " 752: 'опытный',\n",
              " 753: 'положительный',\n",
              " 754: 'понятно',\n",
              " 755: 'приятно',\n",
              " 756: 'проблема',\n",
              " 757: 'профессионализм',\n",
              " 758: 'реакция',\n",
              " 759: 'русский',\n",
              " 760: 'тимощука',\n",
              " 761: 'удача',\n",
              " 762: 'уста',\n",
              " 763: 'человеческий',\n",
              " 764: 'возвращаться',\n",
              " 765: 'впереди',\n",
              " 766: 'вывод',\n",
              " 767: 'жаль',\n",
              " 768: 'заметно',\n",
              " 769: 'ломбертс',\n",
              " 770: 'мяч',\n",
              " 771: 'неплохой',\n",
              " 772: 'непросто',\n",
              " 773: 'николас',\n",
              " 774: 'особенно',\n",
              " 775: 'отдавать',\n",
              " 776: 'отличный',\n",
              " 777: 'половина',\n",
              " 778: 'свежий',\n",
              " 779: 'старт',\n",
              " 780: 'стоить',\n",
              " 781: 'тайм',\n",
              " 782: 'тренироваться',\n",
              " 783: 'тренировочный',\n",
              " 784: 'устать',\n",
              " 785: 'футболист',\n",
              " 786: 'частый',\n",
              " 787: 'atio',\n",
              " 788: 'sb',\n",
              " 789: 'америка',\n",
              " 790: 'амрия',\n",
              " 791: 'баффало',\n",
              " 792: 'выступать',\n",
              " 793: 'задор',\n",
              " 794: 'затем',\n",
              " 795: 'красный',\n",
              " 796: 'лига',\n",
              " 797: 'лондон',\n",
              " 798: 'мхл',\n",
              " 799: 'найтс',\n",
              " 800: 'никита',\n",
              " 801: 'новичок',\n",
              " 802: 'онтарио',\n",
              " 803: 'северный',\n",
              " 804: 'уехать',\n",
              " 805: 'хоккеист',\n",
              " 806: 'хоккейный',\n",
              " 807: 'аплодировать',\n",
              " 808: 'армянский',\n",
              " 809: 'бавария',\n",
              " 810: 'биться',\n",
              " 811: 'бомбардир',\n",
              " 812: 'генрих',\n",
              " 813: 'горняк',\n",
              " 814: 'действие',\n",
              " 815: 'демонстрировать',\n",
              " 816: 'донецкий',\n",
              " 817: 'забивать',\n",
              " 818: 'заявление',\n",
              " 819: 'иной',\n",
              " 820: 'исчезнуть',\n",
              " 821: 'каждый',\n",
              " 822: 'какиеть',\n",
              " 823: 'комментировать',\n",
              " 824: 'ливерпуль',\n",
              " 825: 'лучёска',\n",
              " 826: 'мадридский',\n",
              " 827: 'менять',\n",
              " 828: 'мирча',\n",
              " 829: 'мхитарян',\n",
              " 830: 'опуститься',\n",
              " 831: 'остальной',\n",
              " 832: 'отпуск',\n",
              " 833: 'оценить',\n",
              " 834: 'ошибка',\n",
              " 835: 'переговоры',\n",
              " 836: 'переход',\n",
              " 837: 'подумать',\n",
              " 838: 'помогать',\n",
              " 839: 'понять',\n",
              " 840: 'появляться',\n",
              " 841: 'превосходить',\n",
              " 842: 'призывать',\n",
              " 843: 'продлить',\n",
              " 844: 'реал',\n",
              " 845: 'редко',\n",
              " 846: 'руководство',\n",
              " 847: 'самовольно',\n",
              " 848: 'сильный',\n",
              " 849: 'совершать',\n",
              " 850: 'спина',\n",
              " 851: 'травмировать',\n",
              " 852: 'хотеться',\n",
              " 853: 'шахтёр',\n",
              " 854: 'штрафной',\n",
              " 855: 'бельханда',\n",
              " 856: 'вживую',\n",
              " 857: 'впервые',\n",
              " 858: 'джермейн',\n",
              " 859: 'добавить',\n",
              " 860: 'дьемерси',\n",
              " 861: 'интересно',\n",
              " 862: 'интересный',\n",
              " 863: 'краска',\n",
              " 864: 'ленс',\n",
              " 865: 'мбокани',\n",
              " 866: 'официально',\n",
              " 867: 'перерыв',\n",
              " 868: 'представить',\n",
              " 869: 'юнести',\n",
              " 870: 'адам',\n",
              " 871: 'аз',\n",
              " 872: 'аякс',\n",
              " 873: 'вицечемпион',\n",
              " 874: 'голландия',\n",
              " 875: 'достигнуть',\n",
              " 876: 'забить',\n",
              " 877: 'заинтересованный',\n",
              " 878: 'махер',\n",
              " 879: 'молодёжный',\n",
              " 880: 'отдать',\n",
              " 881: 'передача',\n",
              " 882: 'подписать',\n",
              " 883: 'помимо',\n",
              " 884: 'принципиальный',\n",
              " 885: 'псв',\n",
              " 886: 'рассчитать',\n",
              " 887: 'результативный',\n",
              " 888: 'соглашение',\n",
              " 889: 'трансфер',\n",
              " 890: 'выкладываться',\n",
              " 891: 'выходить',\n",
              " 892: 'забывать',\n",
              " 893: 'качественный',\n",
              " 894: 'концентрация',\n",
              " 895: 'любой',\n",
              " 896: 'могилевец',\n",
              " 897: 'независимо',\n",
              " 898: 'неофициальный',\n",
              " 899: 'новинка',\n",
              " 900: 'обидно',\n",
              " 901: 'павел',\n",
              " 902: 'правда',\n",
              " 903: 'прийти',\n",
              " 904: 'реализация',\n",
              " 905: 'соревнование',\n",
              " 906: 'стараться',\n",
              " 907: 'сто',\n",
              " 908: 'хватить',\n",
              " 909: 'шанс',\n",
              " 910: 'эмоция',\n",
              " 911: 'значит',\n",
              " 912: 'полный',\n",
              " 913: 'преддрафтовый',\n",
              " 914: 'признаться',\n",
              " 915: 'равно',\n",
              " 916: 'страшный',\n",
              " 917: 'сюрприз',\n",
              " 918: 'тест',\n",
              " 919: 'торонто',\n",
              " 920: 'yahoosports',\n",
              " 921: 'будущее',\n",
              " 922: 'вариант',\n",
              " 923: 'возможный',\n",
              " 924: 'гиллис',\n",
              " 925: 'движение',\n",
              " 926: 'именно',\n",
              " 927: 'искать',\n",
              " 928: 'курс',\n",
              " 929: 'майк',\n",
              " 930: 'молодёжь',\n",
              " 931: 'необходимо',\n",
              " 932: 'перспективный',\n",
              " 933: 'постоянно',\n",
              " 934: 'постоянный',\n",
              " 935: 'предложение',\n",
              " 936: 'прекрасный',\n",
              " 937: 'приспосабливаться',\n",
              " 938: 'причина',\n",
              " 939: 'различный',\n",
              " 940: 'рассматривать',\n",
              " 941: 'рынок',\n",
              " 942: 'случиться',\n",
              " 943: 'слушать',\n",
              " 944: 'событие',\n",
              " 945: 'трансферный',\n",
              " 946: 'уверенный',\n",
              " 947: 'чтоть',\n",
              " 948: 'балл',\n",
              " 949: 'джей',\n",
              " 950: 'дженять',\n",
              " 951: 'заполучить',\n",
              " 952: 'использовать',\n",
              " 953: 'каролина',\n",
              " 954: 'клинок',\n",
              " 955: 'комфер',\n",
              " 956: 'направление',\n",
              " 957: 'обратный',\n",
              " 958: 'право',\n",
              " 959: 'проследовать',\n",
              " 960: 'секер',\n",
              " 961: 'блэкхоукс',\n",
              " 962: 'болланд',\n",
              " 963: 'двукратный',\n",
              " 964: 'дэйв',\n",
              " 965: 'нынешний',\n",
              " 966: 'обладатель',\n",
              " 967: 'плейофф',\n",
              " 968: 'присоединиться',\n",
              " 969: 'стэнли',\n",
              " 970: 'чикаго',\n",
              " 971: 'чикагский',\n",
              " 972: 'twitter',\n",
              " 973: 'австрийский',\n",
              " 974: 'выходной',\n",
              " 975: 'дагестанский',\n",
              " 976: 'денисов',\n",
              " 977: 'игорь',\n",
              " 978: 'ирднинга',\n",
              " 979: 'леоганг',\n",
              " 980: 'махачкалинский',\n",
              " 981: 'окончание',\n",
              " 982: 'прибыть',\n",
              " 983: 'расположение',\n",
              " 984: 'согласовать',\n",
              " 985: 'условие',\n",
              " 986: 'эксполузащитник',\n",
              " 987: 'болеть',\n",
              " 988: 'буффон',\n",
              " 989: 'вратарский',\n",
              " 990: 'дасаев',\n",
              " 991: 'детство',\n",
              " 992: 'кан',\n",
              " 993: 'коллега',\n",
              " 994: 'нигматуллин',\n",
              " 995: 'нравиться',\n",
              " 996: 'оливер',\n",
              " 997: 'очередь',\n",
              " 998: 'рыжик',\n",
              " 999: 'симпатизировать',\n",
              " ...}"
            ]
          },
          "metadata": {},
          "execution_count": 23
        }
      ]
    },
    {
      "cell_type": "markdown",
      "metadata": {
        "id": "YKkuzl96nZ4f"
      },
      "source": [
        "Делаем BoW по списку слов"
      ]
    },
    {
      "cell_type": "code",
      "metadata": {
        "colab": {
          "base_uri": "https://localhost:8080/"
        },
        "id": "QAalxqanm95I",
        "outputId": "c59ff5c4-e48d-451b-ac50-98d5388c3e35"
      },
      "source": [
        "common_dictionary.doc2bow(['баскетбол' ,'баскетбол' ,'баскетбол' ,'наше', 'все'], allow_update=True)"
      ],
      "execution_count": 24,
      "outputs": [
        {
          "output_type": "execute_result",
          "data": {
            "text/plain": [
              "[(5, 3), (135645, 1), (135646, 1)]"
            ]
          },
          "metadata": {},
          "execution_count": 24
        }
      ]
    },
    {
      "cell_type": "code",
      "metadata": {
        "colab": {
          "base_uri": "https://localhost:8080/"
        },
        "id": "JSf5rfLjROW7",
        "outputId": "85077da6-0767-4ea0-d2e9-8a0881261044"
      },
      "source": [
        "common_corpus[0][0]"
      ],
      "execution_count": 25,
      "outputs": [
        {
          "output_type": "execute_result",
          "data": {
            "text/plain": [
              "(0, 2)"
            ]
          },
          "metadata": {},
          "execution_count": 25
        }
      ]
    },
    {
      "cell_type": "code",
      "metadata": {
        "colab": {
          "base_uri": "https://localhost:8080/"
        },
        "id": "mcQAiY4kRlAW",
        "outputId": "59fb95ff-d690-4417-9dfe-3ed44177fde9"
      },
      "source": [
        "len(texts[0])"
      ],
      "execution_count": 26,
      "outputs": [
        {
          "output_type": "execute_result",
          "data": {
            "text/plain": [
              "113"
            ]
          },
          "metadata": {},
          "execution_count": 26
        }
      ]
    },
    {
      "cell_type": "markdown",
      "metadata": {
        "id": "jrkMUNueMIGv"
      },
      "source": [
        "Все просто - это словарь наших слов"
      ]
    },
    {
      "cell_type": "markdown",
      "metadata": {
        "id": "LksYgmAqMIGw"
      },
      "source": [
        "Запускаем обучение"
      ]
    },
    {
      "cell_type": "code",
      "metadata": {
        "id": "vcBROvtBkGix"
      },
      "source": [
        "N_topic = 20 # число тем - гиперпараметр"
      ],
      "execution_count": 27,
      "outputs": []
    },
    {
      "cell_type": "code",
      "metadata": {
        "colab": {
          "base_uri": "https://localhost:8080/"
        },
        "id": "xtKgOLXzMIGw",
        "outputId": "59e7dd1a-23cd-4fe9-9c05-355f8201e973"
      },
      "source": [
        "%%time\n",
        "from gensim.models import LdaModel\n",
        "# Train the model on the corpus.\n",
        "lda = LdaModel(common_corpus, num_topics=N_topic, id2word=common_dictionary)#, passes=10)"
      ],
      "execution_count": 28,
      "outputs": [
        {
          "output_type": "stream",
          "name": "stdout",
          "text": [
            "CPU times: user 48.6 s, sys: 23.5 s, total: 1min 12s\n",
            "Wall time: 45.8 s\n"
          ]
        }
      ]
    },
    {
      "cell_type": "code",
      "metadata": {
        "id": "IyVZ-spdMIGx"
      },
      "source": [
        "from gensim.test.utils import datapath\n",
        "# Save model to disk.\n",
        "temp_file = datapath(\"model.lda\")\n",
        "lda.save(temp_file)\n",
        "\n",
        "# Load a potentially pretrained model from disk.\n",
        "lda = LdaModel.load(temp_file)"
      ],
      "execution_count": 29,
      "outputs": []
    },
    {
      "cell_type": "markdown",
      "metadata": {
        "id": "ZshpqNKwMIGx"
      },
      "source": [
        "Обучили модель. Теперь 2 вопроса:\n",
        "\n",
        "1. как выглядят наши темы\n",
        "2. как получить для документа вектор значений (вероятности принадлежности каждой теме)"
      ]
    },
    {
      "cell_type": "code",
      "metadata": {
        "colab": {
          "base_uri": "https://localhost:8080/"
        },
        "id": "-stkuTDxMIGy",
        "outputId": "9b89baae-d5a6-43c0-9a0d-60d0c795ac62"
      },
      "source": [
        "# Create a new corpus, made of previously unseen documents.\n",
        "other_texts = [t for t in news['title'].iloc[:3]]\n",
        "other_corpus = [common_dictionary.doc2bow(text) for text in other_texts]\n",
        "\n",
        "unseen_doc = other_corpus[2]\n",
        "print(other_texts[2])\n",
        "lda[unseen_doc] "
      ],
      "execution_count": 30,
      "outputs": [
        {
          "output_type": "stream",
          "name": "stdout",
          "text": [
            "['форвард', 'авангард', 'томаш', 'заборский', 'прокомментировать', 'игра', 'команда', 'матч', 'чемпионат', 'кхл', 'против', 'атланта', 'плохой', 'матч', 'нижний', 'новгород', 'против', 'торпедо', 'настраиваться', 'первый', 'минута', 'включиться', 'заборский', 'получиться', 'забросить', 'быстрый', 'гол', 'задать', 'хороший', 'темп', 'поединок', 'играть', 'хороший', 'сторона', 'пять', 'очко', 'выезд', 'девять', 'хороший']\n"
          ]
        },
        {
          "output_type": "execute_result",
          "data": {
            "text/plain": [
              "[(1, 0.098769724),\n",
              " (2, 0.20876849),\n",
              " (5, 0.24007873),\n",
              " (10, 0.33251977),\n",
              " (14, 0.10111326)]"
            ]
          },
          "metadata": {},
          "execution_count": 30
        }
      ]
    },
    {
      "cell_type": "code",
      "metadata": {
        "colab": {
          "base_uri": "https://localhost:8080/"
        },
        "id": "Bbxd48b_MIGz",
        "outputId": "c0358503-6d10-494b-c4b2-59d060aa2396"
      },
      "source": [
        "x=lda.show_topics(num_topics=N_topic, num_words=15,formatted=False)\n",
        "topics_words = [(tp[0], [wd[0] for wd in tp[1]]) for tp in x]\n",
        "\n",
        "#Below Code Prints Only Words \n",
        "for topic,words in topics_words:\n",
        "    print(\"topic_{}: \".format(topic)+\" \".join(words))"
      ],
      "execution_count": 31,
      "outputs": [
        {
          "output_type": "stream",
          "name": "stdout",
          "text": [
            "topic_0: женщина жизнь день учёный мозг мужчина дом клетка ребёнок место университет житель всё тыс час\n",
            "topic_1: фестиваль сайт мир мероприятие история состояться первый небо известный ature лунный археолог посвятить гость живой\n",
            "topic_2: научный исследование всё большой военный спутник первый журнал россия уровень пенсия высокий новый риск двигатель\n",
            "topic_3: всё млрд исследователь россия очень путин экономический вопрос государство проблема эксперт новый большой уровень пока\n",
            "topic_4: сша американский опубликовать исследование смерть санкция взрыв район учёный российский россия пострадать расследование препарат помощь\n",
            "topic_5: животное млн учёный станция тыс птица писать университет вицепремьер предмет наблюдаться снег стоимость составить лётчик\n",
            "topic_6: наука учёный газпром министерство ран ген исследование россия канал ленин академия огонь первый вуз министр\n",
            "topic_7: экономика банк эксперимент планета доллар космос восток температура первый расход инвестор строительство вирус новый рост\n",
            "topic_8: население регион россия российский развитие область доход рубль путин правительство продукция повышение новый владимир вопрос\n",
            "topic_9: украина киев украинский египет иск параметр чиновник нафтогаз употребление компенсация порошенко денежный решение указать спг\n",
            "topic_10: ребёнок всё рак журнал заболевание украинский врач выяснить школа исследователь советский кровь ссср дыра гражданин\n",
            "topic_11: рубль млн рынок руб цена рост ставка сотрудник валюта деньга сумма тыс банк бизнес закон\n",
            "topic_12: px северный франция южный космодром ce корея китай французский adce активность tervertical американский великобритания подсчёт\n",
            "topic_13: дональд мышь испытание дождь лодка дверь научный солнце мэй рт новый грант звезда поход разместить\n",
            "topic_14: самолёт корабль космический нефть территория российский полёт война войско море борт asa баррель аппарат операция\n",
            "topic_15: ракета фонд снижение цб пациент исследование топливо средство рубль эксперт объём потребление тысяча падение снизиться\n",
            "topic_16: млрд земля учёный луна вода поверхность день китай высота полёт обнаружить место российский воздух применение\n",
            "topic_17: россия российский проект государственный турист москва совет глава федеральный центр правительство министр вопрос решение крым\n",
            "topic_18: статья россия военный гражданин погибнуть тело обнаружить власть источник информация рф проверка данные штат миссия\n",
            "topic_19: газ россия российский поставка новый эксперт украина рынок цена белоруссия агентство европейский система турция европа\n"
          ]
        }
      ]
    },
    {
      "cell_type": "markdown",
      "metadata": {
        "id": "gBlxgTZoMIG0"
      },
      "source": [
        "Очень неплохо - большинство тем вполне можно описать о чем они\n",
        "\n",
        "\n",
        "построим темы "
      ]
    },
    {
      "cell_type": "code",
      "metadata": {
        "colab": {
          "base_uri": "https://localhost:8080/"
        },
        "id": "1vbGV31OtHHx",
        "outputId": "53046dc6-77d3-4bbd-bb8d-e200ad73d3db"
      },
      "source": [
        "news['title'].iloc[5]"
      ],
      "execution_count": 32,
      "outputs": [
        {
          "output_type": "execute_result",
          "data": {
            "text/plain": [
              "['ио',\n",
              " 'главное',\n",
              " 'тренер',\n",
              " 'вячеслав',\n",
              " 'буцай',\n",
              " 'прокомментировать',\n",
              " 'победа',\n",
              " 'югра',\n",
              " 'матч',\n",
              " 'регулярный',\n",
              " 'чемпионат',\n",
              " 'кхл',\n",
              " 'прежде',\n",
              " 'хотеть',\n",
              " 'поблагодарить',\n",
              " 'ребята',\n",
              " 'команда',\n",
              " 'передавать',\n",
              " 'официальный',\n",
              " 'сайт',\n",
              " 'югра',\n",
              " 'игра',\n",
              " 'начинаться',\n",
              " 'очень',\n",
              " 'удачно',\n",
              " 'пропустить',\n",
              " 'гол',\n",
              " 'первый',\n",
              " 'смена',\n",
              " 'долго',\n",
              " 'входить',\n",
              " 'игра',\n",
              " 'связать',\n",
              " 'дневный',\n",
              " 'матч',\n",
              " 'непривычный',\n",
              " 'плюс',\n",
              " 'третий',\n",
              " 'матч',\n",
              " 'сибирь',\n",
              " 'гдеть',\n",
              " 'ребята',\n",
              " 'чувствовать',\n",
              " 'скажем',\n",
              " 'сонный',\n",
              " 'второй',\n",
              " 'третий',\n",
              " 'период',\n",
              " 'показать',\n",
              " 'разбежаться',\n",
              " 'играть',\n",
              " 'правильно',\n",
              " 'появиться',\n",
              " 'момент',\n",
              " 'дотерпеть',\n",
              " 'заслуженно',\n",
              " 'победить']"
            ]
          },
          "metadata": {},
          "execution_count": 32
        }
      ]
    },
    {
      "cell_type": "code",
      "metadata": {
        "colab": {
          "base_uri": "https://localhost:8080/"
        },
        "id": "NzIVpjbQsK_8",
        "outputId": "08a639b3-6299-4c0f-c602-36703989291b"
      },
      "source": [
        "lda[common_dictionary.doc2bow(news['title'].iloc[10])]"
      ],
      "execution_count": 33,
      "outputs": [
        {
          "output_type": "execute_result",
          "data": {
            "text/plain": [
              "[(1, 0.3506704), (2, 0.21596414), (6, 0.33188793), (10, 0.076477535)]"
            ]
          },
          "metadata": {},
          "execution_count": 33
        }
      ]
    },
    {
      "cell_type": "markdown",
      "metadata": {
        "id": "ZqB953kTMIG0"
      },
      "source": [
        "Давайте напишем функцию, которая будет нам возвращать векторное представление новости"
      ]
    },
    {
      "cell_type": "code",
      "metadata": {
        "id": "dKAc5hiVMIG1"
      },
      "source": [
        "#text = news['title'].iloc[0]\n",
        "\n",
        "def get_lda_vector(text):\n",
        "    unseen_doc = common_dictionary.doc2bow(text)\n",
        "    lda_tuple = lda[unseen_doc]\n",
        "    not_null_topics = dict(zip([i[0] for i in lda_tuple], [i[1] for i in lda_tuple]))\n",
        "\n",
        "    output_vector = []\n",
        "    for i in range(N_topic):\n",
        "        if i not in not_null_topics:\n",
        "            output_vector.append(0)\n",
        "        else:\n",
        "            output_vector.append(not_null_topics[i])\n",
        "    return np.array(output_vector)"
      ],
      "execution_count": 34,
      "outputs": []
    },
    {
      "cell_type": "code",
      "metadata": {
        "colab": {
          "base_uri": "https://localhost:8080/",
          "height": 204
        },
        "id": "QKc4AAI5MIG2",
        "outputId": "4fe6472e-1755-4cf2-fae3-146e742e941d"
      },
      "source": [
        "topic_matrix = pd.DataFrame([get_lda_vector(text) for text in news['title'].values])\n",
        "topic_matrix.columns = ['topic_{}'.format(i) for i in range(N_topic)]\n",
        "topic_matrix['doc_id'] = news['doc_id'].values\n",
        "topic_matrix = topic_matrix[['doc_id']+['topic_{}'.format(i) for i in range(N_topic)]]\n",
        "topic_matrix.head(5)"
      ],
      "execution_count": 35,
      "outputs": [
        {
          "output_type": "execute_result",
          "data": {
            "text/html": [
              "<div>\n",
              "<style scoped>\n",
              "    .dataframe tbody tr th:only-of-type {\n",
              "        vertical-align: middle;\n",
              "    }\n",
              "\n",
              "    .dataframe tbody tr th {\n",
              "        vertical-align: top;\n",
              "    }\n",
              "\n",
              "    .dataframe thead th {\n",
              "        text-align: right;\n",
              "    }\n",
              "</style>\n",
              "<table border=\"1\" class=\"dataframe\">\n",
              "  <thead>\n",
              "    <tr style=\"text-align: right;\">\n",
              "      <th></th>\n",
              "      <th>doc_id</th>\n",
              "      <th>topic_0</th>\n",
              "      <th>topic_1</th>\n",
              "      <th>topic_2</th>\n",
              "      <th>topic_3</th>\n",
              "      <th>topic_4</th>\n",
              "      <th>topic_5</th>\n",
              "      <th>topic_6</th>\n",
              "      <th>topic_7</th>\n",
              "      <th>topic_8</th>\n",
              "      <th>topic_9</th>\n",
              "      <th>topic_10</th>\n",
              "      <th>topic_11</th>\n",
              "      <th>topic_12</th>\n",
              "      <th>topic_13</th>\n",
              "      <th>topic_14</th>\n",
              "      <th>topic_15</th>\n",
              "      <th>topic_16</th>\n",
              "      <th>topic_17</th>\n",
              "      <th>topic_18</th>\n",
              "      <th>topic_19</th>\n",
              "    </tr>\n",
              "  </thead>\n",
              "  <tbody>\n",
              "    <tr>\n",
              "      <th>0</th>\n",
              "      <td>6</td>\n",
              "      <td>0.000000</td>\n",
              "      <td>0.000000</td>\n",
              "      <td>0.000000</td>\n",
              "      <td>0.000000</td>\n",
              "      <td>0.000000</td>\n",
              "      <td>0.000000</td>\n",
              "      <td>0.050587</td>\n",
              "      <td>0.369957</td>\n",
              "      <td>0.0</td>\n",
              "      <td>0.000000</td>\n",
              "      <td>0.000000</td>\n",
              "      <td>0.0</td>\n",
              "      <td>0.0</td>\n",
              "      <td>0.000000</td>\n",
              "      <td>0.000000</td>\n",
              "      <td>0.0</td>\n",
              "      <td>0.0</td>\n",
              "      <td>0.572001</td>\n",
              "      <td>0.000000</td>\n",
              "      <td>0.0</td>\n",
              "    </tr>\n",
              "    <tr>\n",
              "      <th>1</th>\n",
              "      <td>4896</td>\n",
              "      <td>0.213291</td>\n",
              "      <td>0.246317</td>\n",
              "      <td>0.000000</td>\n",
              "      <td>0.000000</td>\n",
              "      <td>0.392182</td>\n",
              "      <td>0.000000</td>\n",
              "      <td>0.094430</td>\n",
              "      <td>0.000000</td>\n",
              "      <td>0.0</td>\n",
              "      <td>0.000000</td>\n",
              "      <td>0.000000</td>\n",
              "      <td>0.0</td>\n",
              "      <td>0.0</td>\n",
              "      <td>0.035488</td>\n",
              "      <td>0.000000</td>\n",
              "      <td>0.0</td>\n",
              "      <td>0.0</td>\n",
              "      <td>0.000000</td>\n",
              "      <td>0.000000</td>\n",
              "      <td>0.0</td>\n",
              "    </tr>\n",
              "    <tr>\n",
              "      <th>2</th>\n",
              "      <td>4897</td>\n",
              "      <td>0.000000</td>\n",
              "      <td>0.098620</td>\n",
              "      <td>0.208806</td>\n",
              "      <td>0.000000</td>\n",
              "      <td>0.000000</td>\n",
              "      <td>0.240128</td>\n",
              "      <td>0.000000</td>\n",
              "      <td>0.000000</td>\n",
              "      <td>0.0</td>\n",
              "      <td>0.000000</td>\n",
              "      <td>0.332664</td>\n",
              "      <td>0.0</td>\n",
              "      <td>0.0</td>\n",
              "      <td>0.000000</td>\n",
              "      <td>0.101031</td>\n",
              "      <td>0.0</td>\n",
              "      <td>0.0</td>\n",
              "      <td>0.000000</td>\n",
              "      <td>0.000000</td>\n",
              "      <td>0.0</td>\n",
              "    </tr>\n",
              "    <tr>\n",
              "      <th>3</th>\n",
              "      <td>4898</td>\n",
              "      <td>0.000000</td>\n",
              "      <td>0.000000</td>\n",
              "      <td>0.123041</td>\n",
              "      <td>0.842491</td>\n",
              "      <td>0.000000</td>\n",
              "      <td>0.000000</td>\n",
              "      <td>0.000000</td>\n",
              "      <td>0.000000</td>\n",
              "      <td>0.0</td>\n",
              "      <td>0.000000</td>\n",
              "      <td>0.000000</td>\n",
              "      <td>0.0</td>\n",
              "      <td>0.0</td>\n",
              "      <td>0.000000</td>\n",
              "      <td>0.000000</td>\n",
              "      <td>0.0</td>\n",
              "      <td>0.0</td>\n",
              "      <td>0.000000</td>\n",
              "      <td>0.024102</td>\n",
              "      <td>0.0</td>\n",
              "    </tr>\n",
              "    <tr>\n",
              "      <th>4</th>\n",
              "      <td>4899</td>\n",
              "      <td>0.000000</td>\n",
              "      <td>0.000000</td>\n",
              "      <td>0.000000</td>\n",
              "      <td>0.000000</td>\n",
              "      <td>0.000000</td>\n",
              "      <td>0.000000</td>\n",
              "      <td>0.000000</td>\n",
              "      <td>0.000000</td>\n",
              "      <td>0.0</td>\n",
              "      <td>0.067913</td>\n",
              "      <td>0.000000</td>\n",
              "      <td>0.0</td>\n",
              "      <td>0.0</td>\n",
              "      <td>0.000000</td>\n",
              "      <td>0.000000</td>\n",
              "      <td>0.0</td>\n",
              "      <td>0.0</td>\n",
              "      <td>0.907763</td>\n",
              "      <td>0.000000</td>\n",
              "      <td>0.0</td>\n",
              "    </tr>\n",
              "  </tbody>\n",
              "</table>\n",
              "</div>"
            ],
            "text/plain": [
              "   doc_id   topic_0   topic_1   topic_2  ...  topic_16  topic_17  topic_18  topic_19\n",
              "0       6  0.000000  0.000000  0.000000  ...       0.0  0.572001  0.000000       0.0\n",
              "1    4896  0.213291  0.246317  0.000000  ...       0.0  0.000000  0.000000       0.0\n",
              "2    4897  0.000000  0.098620  0.208806  ...       0.0  0.000000  0.000000       0.0\n",
              "3    4898  0.000000  0.000000  0.123041  ...       0.0  0.000000  0.024102       0.0\n",
              "4    4899  0.000000  0.000000  0.000000  ...       0.0  0.907763  0.000000       0.0\n",
              "\n",
              "[5 rows x 21 columns]"
            ]
          },
          "metadata": {},
          "execution_count": 35
        }
      ]
    },
    {
      "cell_type": "code",
      "metadata": {
        "colab": {
          "base_uri": "https://localhost:8080/",
          "height": 222
        },
        "id": "EHZFcqJKo0D8",
        "outputId": "cb2afe42-4782-47fd-960e-32f26f7338b3"
      },
      "source": [
        "topic_matrix.head()"
      ],
      "execution_count": null,
      "outputs": [
        {
          "data": {
            "text/html": [
              "<div>\n",
              "<style scoped>\n",
              "    .dataframe tbody tr th:only-of-type {\n",
              "        vertical-align: middle;\n",
              "    }\n",
              "\n",
              "    .dataframe tbody tr th {\n",
              "        vertical-align: top;\n",
              "    }\n",
              "\n",
              "    .dataframe thead th {\n",
              "        text-align: right;\n",
              "    }\n",
              "</style>\n",
              "<table border=\"1\" class=\"dataframe\">\n",
              "  <thead>\n",
              "    <tr style=\"text-align: right;\">\n",
              "      <th></th>\n",
              "      <th>doc_id</th>\n",
              "      <th>topic_0</th>\n",
              "      <th>topic_1</th>\n",
              "      <th>topic_2</th>\n",
              "      <th>topic_3</th>\n",
              "      <th>topic_4</th>\n",
              "      <th>topic_5</th>\n",
              "      <th>topic_6</th>\n",
              "      <th>topic_7</th>\n",
              "      <th>topic_8</th>\n",
              "      <th>topic_9</th>\n",
              "      <th>topic_10</th>\n",
              "      <th>topic_11</th>\n",
              "      <th>topic_12</th>\n",
              "      <th>topic_13</th>\n",
              "      <th>topic_14</th>\n",
              "      <th>topic_15</th>\n",
              "      <th>topic_16</th>\n",
              "      <th>topic_17</th>\n",
              "      <th>topic_18</th>\n",
              "      <th>topic_19</th>\n",
              "    </tr>\n",
              "  </thead>\n",
              "  <tbody>\n",
              "    <tr>\n",
              "      <th>0</th>\n",
              "      <td>6</td>\n",
              "      <td>0.000000</td>\n",
              "      <td>0.0</td>\n",
              "      <td>0.000000</td>\n",
              "      <td>0.000000</td>\n",
              "      <td>0.0</td>\n",
              "      <td>0.00000</td>\n",
              "      <td>0.0</td>\n",
              "      <td>0.000000</td>\n",
              "      <td>0.014615</td>\n",
              "      <td>0.0</td>\n",
              "      <td>0.0</td>\n",
              "      <td>0.000000</td>\n",
              "      <td>0.115957</td>\n",
              "      <td>0.000000</td>\n",
              "      <td>0.0</td>\n",
              "      <td>0.679062</td>\n",
              "      <td>0.000000</td>\n",
              "      <td>0.0</td>\n",
              "      <td>0.183348</td>\n",
              "      <td>0.000000</td>\n",
              "    </tr>\n",
              "    <tr>\n",
              "      <th>1</th>\n",
              "      <td>4896</td>\n",
              "      <td>0.000000</td>\n",
              "      <td>0.0</td>\n",
              "      <td>0.000000</td>\n",
              "      <td>0.000000</td>\n",
              "      <td>0.0</td>\n",
              "      <td>0.22552</td>\n",
              "      <td>0.0</td>\n",
              "      <td>0.000000</td>\n",
              "      <td>0.000000</td>\n",
              "      <td>0.0</td>\n",
              "      <td>0.0</td>\n",
              "      <td>0.000000</td>\n",
              "      <td>0.752529</td>\n",
              "      <td>0.000000</td>\n",
              "      <td>0.0</td>\n",
              "      <td>0.000000</td>\n",
              "      <td>0.000000</td>\n",
              "      <td>0.0</td>\n",
              "      <td>0.000000</td>\n",
              "      <td>0.000000</td>\n",
              "    </tr>\n",
              "    <tr>\n",
              "      <th>2</th>\n",
              "      <td>4897</td>\n",
              "      <td>0.000000</td>\n",
              "      <td>0.0</td>\n",
              "      <td>0.000000</td>\n",
              "      <td>0.039912</td>\n",
              "      <td>0.0</td>\n",
              "      <td>0.00000</td>\n",
              "      <td>0.0</td>\n",
              "      <td>0.000000</td>\n",
              "      <td>0.000000</td>\n",
              "      <td>0.0</td>\n",
              "      <td>0.0</td>\n",
              "      <td>0.000000</td>\n",
              "      <td>0.550553</td>\n",
              "      <td>0.347962</td>\n",
              "      <td>0.0</td>\n",
              "      <td>0.000000</td>\n",
              "      <td>0.041573</td>\n",
              "      <td>0.0</td>\n",
              "      <td>0.000000</td>\n",
              "      <td>0.000000</td>\n",
              "    </tr>\n",
              "    <tr>\n",
              "      <th>3</th>\n",
              "      <td>4898</td>\n",
              "      <td>0.000000</td>\n",
              "      <td>0.0</td>\n",
              "      <td>0.000000</td>\n",
              "      <td>0.000000</td>\n",
              "      <td>0.0</td>\n",
              "      <td>0.00000</td>\n",
              "      <td>0.0</td>\n",
              "      <td>0.162448</td>\n",
              "      <td>0.089447</td>\n",
              "      <td>0.0</td>\n",
              "      <td>0.0</td>\n",
              "      <td>0.016871</td>\n",
              "      <td>0.278302</td>\n",
              "      <td>0.000000</td>\n",
              "      <td>0.0</td>\n",
              "      <td>0.000000</td>\n",
              "      <td>0.000000</td>\n",
              "      <td>0.0</td>\n",
              "      <td>0.000000</td>\n",
              "      <td>0.443785</td>\n",
              "    </tr>\n",
              "    <tr>\n",
              "      <th>4</th>\n",
              "      <td>4899</td>\n",
              "      <td>0.326667</td>\n",
              "      <td>0.0</td>\n",
              "      <td>0.526583</td>\n",
              "      <td>0.000000</td>\n",
              "      <td>0.0</td>\n",
              "      <td>0.00000</td>\n",
              "      <td>0.0</td>\n",
              "      <td>0.000000</td>\n",
              "      <td>0.000000</td>\n",
              "      <td>0.0</td>\n",
              "      <td>0.0</td>\n",
              "      <td>0.000000</td>\n",
              "      <td>0.123777</td>\n",
              "      <td>0.000000</td>\n",
              "      <td>0.0</td>\n",
              "      <td>0.000000</td>\n",
              "      <td>0.000000</td>\n",
              "      <td>0.0</td>\n",
              "      <td>0.000000</td>\n",
              "      <td>0.000000</td>\n",
              "    </tr>\n",
              "  </tbody>\n",
              "</table>\n",
              "</div>"
            ],
            "text/plain": [
              "   doc_id   topic_0  topic_1   topic_2  ...  topic_16  topic_17  topic_18  topic_19\n",
              "0       6  0.000000      0.0  0.000000  ...  0.000000       0.0  0.183348  0.000000\n",
              "1    4896  0.000000      0.0  0.000000  ...  0.000000       0.0  0.000000  0.000000\n",
              "2    4897  0.000000      0.0  0.000000  ...  0.041573       0.0  0.000000  0.000000\n",
              "3    4898  0.000000      0.0  0.000000  ...  0.000000       0.0  0.000000  0.443785\n",
              "4    4899  0.326667      0.0  0.526583  ...  0.000000       0.0  0.000000  0.000000\n",
              "\n",
              "[5 rows x 21 columns]"
            ]
          },
          "execution_count": 113,
          "metadata": {},
          "output_type": "execute_result"
        }
      ]
    },
    {
      "cell_type": "markdown",
      "metadata": {
        "id": "MbQgZQ3MMIG2"
      },
      "source": [
        "Прекрасно, мы получили вектора наших новостей! И даже умеем интерпретировать получившиеся темы.\n",
        "\n",
        "Можно двигаться далее"
      ]
    },
    {
      "cell_type": "markdown",
      "metadata": {
        "id": "z0JACLjHMIG3"
      },
      "source": [
        "### Следующий шаг - векторные представления пользователей"
      ]
    },
    {
      "cell_type": "code",
      "metadata": {
        "colab": {
          "base_uri": "https://localhost:8080/",
          "height": 359
        },
        "id": "7IcoyDauMIG3",
        "scrolled": true,
        "outputId": "bd84ec83-0621-4ada-bcd1-b846a8b58746"
      },
      "source": [
        "users.head(10)"
      ],
      "execution_count": 39,
      "outputs": [
        {
          "output_type": "execute_result",
          "data": {
            "text/html": [
              "<div>\n",
              "<style scoped>\n",
              "    .dataframe tbody tr th:only-of-type {\n",
              "        vertical-align: middle;\n",
              "    }\n",
              "\n",
              "    .dataframe tbody tr th {\n",
              "        vertical-align: top;\n",
              "    }\n",
              "\n",
              "    .dataframe thead th {\n",
              "        text-align: right;\n",
              "    }\n",
              "</style>\n",
              "<table border=\"1\" class=\"dataframe\">\n",
              "  <thead>\n",
              "    <tr style=\"text-align: right;\">\n",
              "      <th></th>\n",
              "      <th>uid</th>\n",
              "      <th>articles</th>\n",
              "    </tr>\n",
              "  </thead>\n",
              "  <tbody>\n",
              "    <tr>\n",
              "      <th>0</th>\n",
              "      <td>u105138</td>\n",
              "      <td>[293672, 293328, 293001, 293622, 293126, 1852]</td>\n",
              "    </tr>\n",
              "    <tr>\n",
              "      <th>1</th>\n",
              "      <td>u108690</td>\n",
              "      <td>[3405, 1739, 2972, 1158, 1599, 322665]</td>\n",
              "    </tr>\n",
              "    <tr>\n",
              "      <th>2</th>\n",
              "      <td>u108339</td>\n",
              "      <td>[1845, 2009, 2356, 1424, 2939, 323389]</td>\n",
              "    </tr>\n",
              "    <tr>\n",
              "      <th>3</th>\n",
              "      <td>u101138</td>\n",
              "      <td>[5933, 6186, 5055, 6977, 5206, 488389]</td>\n",
              "    </tr>\n",
              "    <tr>\n",
              "      <th>4</th>\n",
              "      <td>u108248</td>\n",
              "      <td>[707, 1144, 2532, 2928, 3133, 324592]</td>\n",
              "    </tr>\n",
              "    <tr>\n",
              "      <th>5</th>\n",
              "      <td>u106662</td>\n",
              "      <td>[323868, 323426, 324267, 322426, 324104, 1550]</td>\n",
              "    </tr>\n",
              "    <tr>\n",
              "      <th>6</th>\n",
              "      <td>u105949</td>\n",
              "      <td>[293138, 294471, 295012, 294736, 293949, 3544]</td>\n",
              "    </tr>\n",
              "    <tr>\n",
              "      <th>7</th>\n",
              "      <td>u102457</td>\n",
              "      <td>[6928, 5009, 6940, 7629, 7644, 512736]</td>\n",
              "    </tr>\n",
              "    <tr>\n",
              "      <th>8</th>\n",
              "      <td>u104124</td>\n",
              "      <td>[322838, 324699, 322991, 322120, 324327, 472331]</td>\n",
              "    </tr>\n",
              "    <tr>\n",
              "      <th>9</th>\n",
              "      <td>u101386</td>\n",
              "      <td>[7827, 6427, 7394, 7151, 6335, 487254]</td>\n",
              "    </tr>\n",
              "  </tbody>\n",
              "</table>\n",
              "</div>"
            ],
            "text/plain": [
              "       uid                                          articles\n",
              "0  u105138    [293672, 293328, 293001, 293622, 293126, 1852]\n",
              "1  u108690            [3405, 1739, 2972, 1158, 1599, 322665]\n",
              "2  u108339            [1845, 2009, 2356, 1424, 2939, 323389]\n",
              "3  u101138            [5933, 6186, 5055, 6977, 5206, 488389]\n",
              "4  u108248             [707, 1144, 2532, 2928, 3133, 324592]\n",
              "5  u106662    [323868, 323426, 324267, 322426, 324104, 1550]\n",
              "6  u105949    [293138, 294471, 295012, 294736, 293949, 3544]\n",
              "7  u102457            [6928, 5009, 6940, 7629, 7644, 512736]\n",
              "8  u104124  [322838, 324699, 322991, 322120, 324327, 472331]\n",
              "9  u101386            [7827, 6427, 7394, 7151, 6335, 487254]"
            ]
          },
          "metadata": {},
          "execution_count": 39
        }
      ]
    },
    {
      "cell_type": "code",
      "metadata": {
        "id": "U2pcSIBDMIG4"
      },
      "source": [
        "doc_dict = dict(zip(topic_matrix['doc_id'].values, topic_matrix[['topic_{}'.format(i) for i in range(N_topic)]].values))"
      ],
      "execution_count": 40,
      "outputs": []
    },
    {
      "cell_type": "code",
      "metadata": {
        "colab": {
          "base_uri": "https://localhost:8080/"
        },
        "id": "wG7wI5TfMIG4",
        "outputId": "1fb1b2d5-31f6-4bcc-a7e6-b141cb90374d"
      },
      "source": [
        "doc_dict[293622]"
      ],
      "execution_count": 41,
      "outputs": [
        {
          "output_type": "execute_result",
          "data": {
            "text/plain": [
              "array([0.29020014, 0.27474919, 0.0312889 , 0.        , 0.13299219,\n",
              "       0.02308879, 0.        , 0.        , 0.14079957, 0.        ,\n",
              "       0.02309956, 0.        , 0.        , 0.        , 0.        ,\n",
              "       0.07739872, 0.        , 0.        , 0.        , 0.        ])"
            ]
          },
          "metadata": {},
          "execution_count": 41
        }
      ]
    },
    {
      "cell_type": "code",
      "metadata": {
        "id": "6ssOp3RkMIG5"
      },
      "source": [
        "user_articles_list = users['articles'].iloc[33]\n",
        "\n",
        "def get_user_embedding_max(user_articles_list):\n",
        "    user_articles_list = eval(user_articles_list)\n",
        "    user_vector = np.array([doc_dict[doc_id] for doc_id in user_articles_list])\n",
        "    #print(user_vector)\n",
        "    user_vector1 = np.max(user_vector, 0)  # можно не средний\n",
        "    return user_vector1 #,user_vector\n",
        "\n",
        "def get_user_embedding_median(user_articles_list):\n",
        "    user_articles_list = eval(user_articles_list)\n",
        "    user_vector = np.array([doc_dict[doc_id] for doc_id in user_articles_list])\n",
        "    #print(user_vector)\n",
        "    user_vector1 = np.median(user_vector, 0)  # можно не средний\n",
        "    return user_vector1 #,user_vector\n",
        "  \n",
        "def get_user_embedding_mean(user_articles_list):\n",
        "    user_articles_list = eval(user_articles_list)\n",
        "    user_vector = np.array([doc_dict[doc_id] for doc_id in user_articles_list])\n",
        "    #print(user_vector)\n",
        "    user_vector1 = np.mean(user_vector, 0)  # можно не средний\n",
        "    return user_vector1 #,user_vector"
      ],
      "execution_count": 83,
      "outputs": []
    },
    {
      "cell_type": "code",
      "metadata": {
        "id": "UKfTfcyKMDLq"
      },
      "source": [
        "user_articles_list = users['articles'].iloc[33]"
      ],
      "execution_count": 84,
      "outputs": []
    },
    {
      "cell_type": "code",
      "metadata": {
        "colab": {
          "base_uri": "https://localhost:8080/"
        },
        "id": "kn0IxR3vMIG5",
        "outputId": "dff1f332-c53a-4039-c25e-f7c1051133b9"
      },
      "source": [
        "vv_max = get_user_embedding_max(user_articles_list)\n",
        "vv_median = get_user_embedding_median(user_articles_list)\n",
        "vv_mean = get_user_embedding_median(user_articles_list)\n",
        "\n",
        "print(vv_max)\n",
        "print(vv_median)\n",
        "print(vv_mean)"
      ],
      "execution_count": 85,
      "outputs": [
        {
          "output_type": "stream",
          "name": "stdout",
          "text": [
            "[0.35756347 0.         0.33504522 0.12669575 0.35179156 0.\n",
            " 0.3562381  0.         0.23204193 0.         0.18020737 0.5789634\n",
            " 0.02883003 0.02089464 0.20475368 0.0387769  0.13339376 0.4242591\n",
            " 0.3198401  0.14349261]\n",
            "[0.         0.         0.         0.01133765 0.15073859 0.\n",
            " 0.         0.         0.05093446 0.         0.         0.\n",
            " 0.         0.         0.         0.         0.         0.11543502\n",
            " 0.08932153 0.        ]\n",
            "[0.         0.         0.         0.01133765 0.15073859 0.\n",
            " 0.         0.         0.05093446 0.         0.         0.\n",
            " 0.         0.         0.         0.         0.         0.11543502\n",
            " 0.08932153 0.        ]\n"
          ]
        }
      ]
    },
    {
      "cell_type": "code",
      "metadata": {
        "id": "vw-UHq1PLiD6"
      },
      "source": [
        "import matplotlib.pyplot as plt"
      ],
      "execution_count": 86,
      "outputs": []
    },
    {
      "cell_type": "markdown",
      "metadata": {
        "id": "bbJ6STRBMIG6"
      },
      "source": [
        "Интересовался новостями с топиками topic_3, topic_14 (что-то про политику и государство)"
      ]
    },
    {
      "cell_type": "code",
      "metadata": {
        "id": "3UPXZgsVMIG6"
      },
      "source": [
        "#users['articles'].iloc[33]"
      ],
      "execution_count": null,
      "outputs": []
    },
    {
      "cell_type": "code",
      "metadata": {
        "id": "bDJCMtAFMIG7",
        "scrolled": true
      },
      "source": [
        "#\" \".join(news[news['doc_id']==323186]['title'].iloc[0])"
      ],
      "execution_count": null,
      "outputs": []
    },
    {
      "cell_type": "markdown",
      "metadata": {
        "id": "tk9q6qrVMIG7"
      },
      "source": [
        "Теперь получим эмбединги для всех пользователей и проверим их качество на конкретной downstream-задаче"
      ]
    },
    {
      "cell_type": "code",
      "metadata": {
        "colab": {
          "base_uri": "https://localhost:8080/"
        },
        "id": "2gJ71BPbMIG8",
        "outputId": "3dc07122-73a7-4d5f-cecb-1a65b73553cf"
      },
      "source": [
        "user_embeddings = []\n",
        "for i, f in enumerate([get_user_embedding_max, get_user_embedding_mean, get_user_embedding_median]):\n",
        "  user_embeddings += [pd.DataFrame([i for i in users['articles'].apply(lambda x: f(x), 1)])]\n",
        "  user_embeddings[i].columns = ['topic_{}'.format(i) for i in range(N_topic)]\n",
        "  user_embeddings[i]['uid'] = users['uid'].values\n",
        "  user_embeddings[i] = user_embeddings[i][['uid']+['topic_{}'.format(i) for i in range(N_topic)]]\n",
        "  user_embeddings[i].head(3)\n",
        "user_embeddings"
      ],
      "execution_count": 93,
      "outputs": [
        {
          "output_type": "execute_result",
          "data": {
            "text/plain": [
              "[          uid   topic_0   topic_1  ...  topic_17  topic_18  topic_19\n",
              " 0     u105138  0.290200  0.274749  ...  0.305878  0.467989  0.000000\n",
              " 1     u108690  0.253942  0.038079  ...  0.094047  0.369583  0.036202\n",
              " 2     u108339  0.322660  0.000000  ...  0.230952  0.324418  0.060211\n",
              " 3     u101138  0.050108  0.170436  ...  0.039639  0.018695  0.015220\n",
              " 4     u108248  0.325908  0.062484  ...  0.403213  0.116186  0.054960\n",
              " ...       ...       ...       ...  ...       ...       ...       ...\n",
              " 7995  u107463  0.103770  0.323475  ...  0.358090  0.242656  0.027943\n",
              " 7996  u101241  0.055381  0.380588  ...  0.356514  0.482344  0.000000\n",
              " 7997  u106486  0.261763  0.069499  ...  0.194352  0.193713  0.025063\n",
              " 7998  u102220  0.055299  0.585061  ...  0.331568  0.150125  0.110946\n",
              " 7999  u105118  0.442113  0.557035  ...  0.155655  0.308856  0.000000\n",
              " \n",
              " [8000 rows x 21 columns],\n",
              "           uid   topic_0   topic_1  ...  topic_17  topic_18  topic_19\n",
              " 0     u105138  0.144230  0.109738  ...  0.098285  0.128880  0.000000\n",
              " 1     u108690  0.112814  0.011283  ...  0.067106  0.126093  0.006034\n",
              " 2     u108339  0.111319  0.000000  ...  0.116581  0.151397  0.010035\n",
              " 3     u101138  0.013614  0.049037  ...  0.006606  0.003116  0.002537\n",
              " 4     u108248  0.138797  0.010414  ...  0.126967  0.063637  0.022397\n",
              " ...       ...       ...       ...  ...       ...       ...       ...\n",
              " 7995  u107463  0.026271  0.053913  ...  0.101387  0.143940  0.009230\n",
              " 7996  u101241  0.011695  0.174091  ...  0.059419  0.103933  0.000000\n",
              " 7997  u106486  0.067032  0.011583  ...  0.036031  0.069736  0.004177\n",
              " 7998  u102220  0.009217  0.211721  ...  0.060183  0.025021  0.021345\n",
              " 7999  u105118  0.223485  0.226967  ...  0.068672  0.074359  0.000000\n",
              " \n",
              " [8000 rows x 21 columns],\n",
              "           uid   topic_0   topic_1  ...  topic_17  topic_18  topic_19\n",
              " 0     u105138  0.138452  0.091354  ...  0.080864  0.027471  0.000000\n",
              " 1     u108690  0.093471  0.000000  ...  0.071914  0.074036  0.000000\n",
              " 2     u108339  0.095637  0.000000  ...  0.112378  0.139995  0.000000\n",
              " 3     u101138  0.000000  0.000000  ...  0.000000  0.000000  0.000000\n",
              " 4     u108248  0.127840  0.000000  ...  0.088932  0.059955  0.019644\n",
              " ...       ...       ...       ...  ...       ...       ...       ...\n",
              " 7995  u107463  0.012340  0.000000  ...  0.073130  0.145453  0.000000\n",
              " 7996  u101241  0.000000  0.196827  ...  0.000000  0.000000  0.000000\n",
              " 7997  u106486  0.010039  0.000000  ...  0.000000  0.031536  0.000000\n",
              " 7998  u102220  0.000000  0.107708  ...  0.000000  0.000000  0.000000\n",
              " 7999  u105118  0.194353  0.222103  ...  0.062761  0.020084  0.000000\n",
              " \n",
              " [8000 rows x 21 columns]]"
            ]
          },
          "metadata": {},
          "execution_count": 93
        }
      ]
    },
    {
      "cell_type": "markdown",
      "metadata": {
        "id": "dZNF_ZXSMIG8"
      },
      "source": [
        "Датасет готов - можно попробовать обучить модель. Загрузим нашу разметку"
      ]
    },
    {
      "cell_type": "code",
      "metadata": {
        "colab": {
          "base_uri": "https://localhost:8080/",
          "height": 142
        },
        "id": "L2mVHGMPMIG9",
        "outputId": "93b0a1ec-c401-461f-ebda-191d943940c7"
      },
      "source": [
        "target = pd.read_csv(path+\"users_churn.csv\")\n",
        "target.head(3)"
      ],
      "execution_count": 48,
      "outputs": [
        {
          "output_type": "execute_result",
          "data": {
            "text/html": [
              "<div>\n",
              "<style scoped>\n",
              "    .dataframe tbody tr th:only-of-type {\n",
              "        vertical-align: middle;\n",
              "    }\n",
              "\n",
              "    .dataframe tbody tr th {\n",
              "        vertical-align: top;\n",
              "    }\n",
              "\n",
              "    .dataframe thead th {\n",
              "        text-align: right;\n",
              "    }\n",
              "</style>\n",
              "<table border=\"1\" class=\"dataframe\">\n",
              "  <thead>\n",
              "    <tr style=\"text-align: right;\">\n",
              "      <th></th>\n",
              "      <th>uid</th>\n",
              "      <th>churn</th>\n",
              "    </tr>\n",
              "  </thead>\n",
              "  <tbody>\n",
              "    <tr>\n",
              "      <th>0</th>\n",
              "      <td>u107120</td>\n",
              "      <td>0</td>\n",
              "    </tr>\n",
              "    <tr>\n",
              "      <th>1</th>\n",
              "      <td>u102277</td>\n",
              "      <td>0</td>\n",
              "    </tr>\n",
              "    <tr>\n",
              "      <th>2</th>\n",
              "      <td>u102444</td>\n",
              "      <td>0</td>\n",
              "    </tr>\n",
              "  </tbody>\n",
              "</table>\n",
              "</div>"
            ],
            "text/plain": [
              "       uid  churn\n",
              "0  u107120      0\n",
              "1  u102277      0\n",
              "2  u102444      0"
            ]
          },
          "metadata": {},
          "execution_count": 48
        }
      ]
    },
    {
      "cell_type": "code",
      "metadata": {
        "colab": {
          "base_uri": "https://localhost:8080/"
        },
        "id": "qXzy3pA2MIG9",
        "outputId": "661c771a-110d-49ec-d3e1-f1435f7abcdd"
      },
      "source": [
        "X = []\n",
        "for user in user_embeddings:\n",
        "  X += [pd.merge(user, target, 'left')]\n",
        "X"
      ],
      "execution_count": 107,
      "outputs": [
        {
          "output_type": "execute_result",
          "data": {
            "text/plain": [
              "[          uid   topic_0   topic_1  ...  topic_18  topic_19  churn\n",
              " 0     u105138  0.290200  0.274749  ...  0.467989  0.000000      0\n",
              " 1     u108690  0.253942  0.038079  ...  0.369583  0.036202      1\n",
              " 2     u108339  0.322660  0.000000  ...  0.324418  0.060211      1\n",
              " 3     u101138  0.050108  0.170436  ...  0.018695  0.015220      0\n",
              " 4     u108248  0.325908  0.062484  ...  0.116186  0.054960      1\n",
              " ...       ...       ...       ...  ...       ...       ...    ...\n",
              " 7995  u107463  0.103770  0.323475  ...  0.242656  0.027943      0\n",
              " 7996  u101241  0.055381  0.380588  ...  0.482344  0.000000      0\n",
              " 7997  u106486  0.261763  0.069499  ...  0.193713  0.025063      0\n",
              " 7998  u102220  0.055299  0.585061  ...  0.150125  0.110946      0\n",
              " 7999  u105118  0.442113  0.557035  ...  0.308856  0.000000      0\n",
              " \n",
              " [8000 rows x 22 columns],\n",
              "           uid   topic_0   topic_1  ...  topic_18  topic_19  churn\n",
              " 0     u105138  0.144230  0.109738  ...  0.128880  0.000000      0\n",
              " 1     u108690  0.112814  0.011283  ...  0.126093  0.006034      1\n",
              " 2     u108339  0.111319  0.000000  ...  0.151397  0.010035      1\n",
              " 3     u101138  0.013614  0.049037  ...  0.003116  0.002537      0\n",
              " 4     u108248  0.138797  0.010414  ...  0.063637  0.022397      1\n",
              " ...       ...       ...       ...  ...       ...       ...    ...\n",
              " 7995  u107463  0.026271  0.053913  ...  0.143940  0.009230      0\n",
              " 7996  u101241  0.011695  0.174091  ...  0.103933  0.000000      0\n",
              " 7997  u106486  0.067032  0.011583  ...  0.069736  0.004177      0\n",
              " 7998  u102220  0.009217  0.211721  ...  0.025021  0.021345      0\n",
              " 7999  u105118  0.223485  0.226967  ...  0.074359  0.000000      0\n",
              " \n",
              " [8000 rows x 22 columns],\n",
              "           uid   topic_0   topic_1  ...  topic_18  topic_19  churn\n",
              " 0     u105138  0.138452  0.091354  ...  0.027471  0.000000      0\n",
              " 1     u108690  0.093471  0.000000  ...  0.074036  0.000000      1\n",
              " 2     u108339  0.095637  0.000000  ...  0.139995  0.000000      1\n",
              " 3     u101138  0.000000  0.000000  ...  0.000000  0.000000      0\n",
              " 4     u108248  0.127840  0.000000  ...  0.059955  0.019644      1\n",
              " ...       ...       ...       ...  ...       ...       ...    ...\n",
              " 7995  u107463  0.012340  0.000000  ...  0.145453  0.000000      0\n",
              " 7996  u101241  0.000000  0.196827  ...  0.000000  0.000000      0\n",
              " 7997  u106486  0.010039  0.000000  ...  0.031536  0.000000      0\n",
              " 7998  u102220  0.000000  0.107708  ...  0.000000  0.000000      0\n",
              " 7999  u105118  0.194353  0.222103  ...  0.020084  0.000000      0\n",
              " \n",
              " [8000 rows x 22 columns]]"
            ]
          },
          "metadata": {},
          "execution_count": 107
        }
      ]
    },
    {
      "cell_type": "code",
      "metadata": {
        "id": "Un-dl_vDMIHM"
      },
      "source": [
        "from sklearn.linear_model import LogisticRegression\n",
        "from sklearn.model_selection import train_test_split\n",
        "#import itertools\n",
        "\n",
        "import matplotlib.pyplot as plt\n",
        "\n",
        "%matplotlib inline"
      ],
      "execution_count": 50,
      "outputs": []
    },
    {
      "cell_type": "code",
      "metadata": {
        "id": "rzq-WEIJMIHO"
      },
      "source": [
        "#разделим данные на train/test\n",
        "learn = []\n",
        "for x in X:\n",
        "  X_train, X_test, y_train, y_test = train_test_split(x[['topic_{}'.format(i) for i in range(N_topic)]], \n",
        "                                                    x['churn'], random_state=0, test_size=0.25)\n",
        "  learn += [[X_train, X_test, y_train, y_test]]"
      ],
      "execution_count": 126,
      "outputs": []
    },
    {
      "cell_type": "code",
      "metadata": {
        "id": "EBQsn00QMIHO"
      },
      "source": [
        "logreg = []\n",
        "#обучим наш пайплайн\n",
        "for i, l in enumerate(learn):\n",
        "  logreg += [LogisticRegression(C=1.0)]\n",
        "  logreg[i].fit(learn[i][0],learn[i][2])"
      ],
      "execution_count": 127,
      "outputs": []
    },
    {
      "cell_type": "code",
      "metadata": {
        "id": "GqftFfoOMIHP"
      },
      "source": [
        "#наши прогнозы для тестовой выборки\n",
        "preds = []\n",
        "for i, logr in enumerate(logreg):\n",
        "  preds += [logr.predict_proba(learn[i][1])[:, 1]]\n",
        "  preds[:10]"
      ],
      "execution_count": 128,
      "outputs": []
    },
    {
      "cell_type": "code",
      "metadata": {
        "id": "nQKM7kKtMIHU"
      },
      "source": [
        "from sklearn.metrics import f1_score, roc_auc_score, precision_score, classification_report, precision_recall_curve, confusion_matrix"
      ],
      "execution_count": 54,
      "outputs": []
    },
    {
      "cell_type": "markdown",
      "metadata": {
        "id": "_X_oDrlNMIHV"
      },
      "source": [
        "### Рассчитаем Precision, Recall, F_score"
      ]
    },
    {
      "cell_type": "code",
      "metadata": {
        "colab": {
          "base_uri": "https://localhost:8080/",
          "height": 893
        },
        "id": "vFnKI0lCQ91K",
        "outputId": "d2b275d5-4510-4ff8-e2c4-3c7fc600ef1a"
      },
      "source": [
        "name = ['MAX', 'MEAN', 'MEDIAN']\n",
        "for i, p in enumerate(preds):\n",
        "  plt.plot( p[:100], label = 'predict')\n",
        "  plt.plot(learn[i][3].values[:100], label = 'true')\n",
        "  plt.title(f'ответ модели {name[i]}')\n",
        "  plt.xlabel(' № примера')\n",
        "  plt.ylabel(' выход')\n",
        "  plt.legend()\n",
        "  plt.grid('On')\n",
        "  plt.show()"
      ],
      "execution_count": 135,
      "outputs": [
        {
          "output_type": "display_data",
          "data": {
            "image/png": "[encoded data removed]",
            "text/plain": [
              "<Figure size 432x288 with 1 Axes>"
            ]
          },
          "metadata": {
            "needs_background": "light"
          }
        },
        {
          "output_type": "display_data",
          "data": {
            "image/png": "[encoded data removed]",
            "text/plain": [
              "<Figure size 432x288 with 1 Axes>"
            ]
          },
          "metadata": {
            "needs_background": "light"
          }
        },
        {
          "output_type": "display_data",
          "data": {
            "image/png": "[encoded data removed]",
            "text/plain": [
              "<Figure size 432x288 with 1 Axes>"
            ]
          },
          "metadata": {
            "needs_background": "light"
          }
        }
      ]
    },
    {
      "cell_type": "code",
      "metadata": {
        "id": "J04r8edvMIHV"
      },
      "source": [
        "prc = []\n",
        "for i, p in enumerate(preds):\n",
        "  precision, recall, thresholds = precision_recall_curve(learn[i][3].values, p)\n",
        "  prc += [[precision, recall, thresholds]]\n"
      ],
      "execution_count": 133,
      "outputs": []
    },
    {
      "cell_type": "code",
      "metadata": {
        "colab": {
          "base_uri": "https://localhost:8080/"
        },
        "id": "a_M4X_aj_1Q-",
        "outputId": "712fbe17-92b6-4d56-f269-2d05390310e6"
      },
      "source": [
        "prc_result = []\n",
        "\n",
        "for i, value in enumerate(prc):\n",
        "  n=-1\n",
        "  fscore = (2 * value[0][:n] * value[1][:n]) / (value[0][:n] + value[1][:n])\n",
        "\n",
        "  # locate the index of the largest f score\n",
        "  ix = np.argmax(fscore)\n",
        "  print(f'{name[i]} Best Threshold=%f, F-Score=%.3f, Precision=%.3f, Recall=%.3f' % (value[2][ix], \n",
        "                                                                          fscore[ix],\n",
        "                                                                          value[0][ix],\n",
        "                                                                          value[1][ix]))\n",
        "  prc_result += [[value[2][ix], fscore[ix], value[0][ix], value[1][ix]]]"
      ],
      "execution_count": 144,
      "outputs": [
        {
          "output_type": "stream",
          "name": "stdout",
          "text": [
            "MAX Best Threshold=0.362254, F-Score=0.722, Precision=0.729, Recall=0.714\n",
            "MEAN Best Threshold=0.240197, F-Score=0.634, Precision=0.559, Recall=0.731\n",
            "MEDIAN Best Threshold=0.256410, F-Score=0.704, Precision=0.651, Recall=0.767\n"
          ]
        }
      ]
    },
    {
      "cell_type": "code",
      "metadata": {
        "colab": {
          "base_uri": "https://localhost:8080/"
        },
        "id": "vGLGf7iFMIHX",
        "outputId": "5f71dd8e-c687-4b5a-c76f-8c1152fcdc50"
      },
      "source": [
        "total_result = []\n",
        "for i, p in enumerate(preds):\n",
        "  total_result += [prc_result[i] + [roc_auc_score(learn[i][3], p)]]\n",
        "  \n",
        "for i, value in enumerate(total_result):\n",
        "  print(f'{name[i] + \" \" * (len(max(name))-len(name[i]))} Best Threshold=%f, F-Score=%.3f, Precision=%.3f, Recall=%.3f, Roc auc score=%.3f' % (value[0],value[1],value[2],value[3],value[4]))"
      ],
      "execution_count": 171,
      "outputs": [
        {
          "output_type": "stream",
          "name": "stdout",
          "text": [
            "MAX    Best Threshold=0.362254, F-Score=0.722, Precision=0.729, Recall=0.714, Roc auc score=0.957\n",
            "MEAN   Best Threshold=0.240197, F-Score=0.634, Precision=0.559, Recall=0.731, Roc auc score=0.930\n",
            "MEDIAN Best Threshold=0.256410, F-Score=0.704, Precision=0.651, Recall=0.767, Roc auc score=0.955\n"
          ]
        }
      ]
    },
    {
      "cell_type": "markdown",
      "metadata": {
        "id": "oqC2-LaibLwO"
      },
      "source": [
        "MEDIAN показывает лучшие результаты, так как снижается влияние \"выбросов\""
      ]
    },
    {
      "cell_type": "markdown",
      "metadata": {
        "id": "fbxpSNMMMIHY"
      },
      "source": [
        "### Домашнее задание"
      ]
    },
    {
      "cell_type": "markdown",
      "metadata": {
        "id": "1cxL4c0tMIHZ"
      },
      "source": [
        "1. Самостоятельно разобраться с тем, что такое tfidf (документация https://scikit-learn.org/stable/modules/generated/sklearn.feature_extraction.text.TfidfVectorizer.html и еще - https://scikit-learn.org/stable/modules/feature_extraction.html#text-feature-extraction)\n",
        "2. Модифицировать код функции get_user_embedding таким образом, чтобы считалось не среднее (как в примере np.mean), а медиана. Применить такое преобразование к данным, обучить модель прогнозирования оттока и посчитать метрики качества и сохранить их: roc auc, precision/recall/f_score (для 3 последних - подобрать оптимальный порог с помощью precision_recall_curve, как это делалось на уроке)\n",
        "3. Повторить п.2, но используя уже не медиану, а max\n",
        "4. (опциональное, если очень хочется) Воспользовавшись полученными знаниями из п.1, повторить пункт 2, но уже взвешивая новости по tfidf (подсказка: нужно получить веса-коэффициенты для каждого документа. Не все документы одинаково информативны и несут какой-то положительный сигнал). Подсказка 2 - нужен именно idf, как вес.\n",
        "5. Сформировать на выходе единую таблицу, сравнивающую качество 3 разных метода получения эмбедингов пользователей: mean, median, max, idf_mean по метрикам roc_auc, precision, recall, f_score\n",
        "6. Сделать самостоятельные выводы и предположения о том, почему тот или ной способ оказался эффективнее остальных"
      ]
    },
    {
      "cell_type": "markdown",
      "metadata": {
        "id": "knu4EuwkMIHZ"
      },
      "source": [
        "#### Ссылки"
      ]
    },
    {
      "cell_type": "markdown",
      "metadata": {
        "id": "_J8Raxx3MIHZ"
      },
      "source": [
        "1. http://www.machinelearning.ru/wiki/images/d/d5/Voron17survey-artm.pdf\n",
        "2. https://en.wikipedia.org/wiki/Latent_Dirichlet_allocation"
      ]
    },
    {
      "cell_type": "markdown",
      "metadata": {
        "id": "QfwYYD1qMIHa"
      },
      "source": [
        "#### Библиотеки, которые нужно установить:\n",
        "\n",
        "1. gensim\n",
        "2. razdel\n",
        "3. pymorphy2\n",
        "4. nltk"
      ]
    },
    {
      "cell_type": "code",
      "metadata": {
        "id": "04kJ_-kyMIHa"
      },
      "source": [
        ""
      ],
      "execution_count": null,
      "outputs": []
    }
  ]
}